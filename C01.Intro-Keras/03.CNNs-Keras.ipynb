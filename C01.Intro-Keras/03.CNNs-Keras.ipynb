{
  "cells": [
    {
      "cell_type": "markdown",
      "metadata": {
        "id": "ec8bacf7-7929-4c25-a072-57078a9781a6"
      },
      "source": [
        "<h1 align=center><font size = 5>Convolutional Neural Networks with Keras</font></h1>\n"
      ]
    },
    {
      "cell_type": "markdown",
      "metadata": {
        "id": "a145693f-77be-4698-9305-933d6541bed9"
      },
      "source": [
        "## Table of Contents\n",
        "\n",
        "<div class=\"alert alert-block alert-info\" style=\"margin-top: 20px\">\n",
        "\n",
        "<font size = 3>\n",
        "      \n",
        "1. <a href=\"#item41\">Import Keras and Packages</a>   \n",
        "2. <a href=\"#item42\">Convolutional Neural Network with One Convolutional and Pooling Layers</a>  \n",
        "3. <a href=\"#item43\">Convolutional Neural Network with Two Convolutional and Pooling Layers</a>  \n",
        "\n",
        "</font>\n",
        "</div>\n"
      ]
    },
    {
      "cell_type": "markdown",
      "metadata": {
        "id": "fd1a9901-1ad1-44e2-8d7c-6abbc1d4c5fa"
      },
      "source": [
        "## Import Keras and Packages\n"
      ]
    },
    {
      "cell_type": "code",
      "metadata": {
        "id": "caf13643-fbbb-4805-bca7-e7058b620f23"
      },
      "outputs": [],
      "source": [
        "import keras\n",
        "from keras.models import Sequential\n",
        "from keras.layers import Dense\n",
        "from keras.utils import to_categorical"
      ],
      "execution_count": 1
    },
    {
      "cell_type": "code",
      "metadata": {
        "id": "76703d9c-3ebb-4120-9aa5-64e7b56f6df9"
      },
      "outputs": [],
      "source": [
        "from tensorflow.keras.layers import Conv2D, MaxPooling2D, Flatten"
      ],
      "execution_count": 9
    },
    {
      "cell_type": "markdown",
      "metadata": {
        "id": "8c2c6d4d-4199-4ac3-86fd-83d0af27b76b"
      },
      "source": [
        "## Convolutional Layer with One set of convolutional and pooling layers\n"
      ]
    },
    {
      "cell_type": "code",
      "metadata": {
        "colab": {
          "base_uri": "https://localhost:8080/"
        },
        "id": "0b926053-ed83-4419-9df6-bbafcfc7f2e2",
        "outputId": "4859fded-b592-4047-b38a-fc2c21daf631"
      },
      "outputs": [
        {
          "output_type": "stream",
          "name": "stdout",
          "text": [
            "Downloading data from https://storage.googleapis.com/tensorflow/tf-keras-datasets/mnist.npz\n",
            "\u001b[1m11490434/11490434\u001b[0m \u001b[32m━━━━━━━━━━━━━━━━━━━━\u001b[0m\u001b[37m\u001b[0m \u001b[1m0s\u001b[0m 0us/step\n"
          ]
        }
      ],
      "source": [
        "# import data\n",
        "from keras.datasets import mnist\n",
        "\n",
        "# load data\n",
        "(X_train, y_train), (X_test, y_test) = mnist.load_data()\n",
        "\n",
        "# reshape to be [samples][pixels][width][height]\n",
        "X_train = X_train.reshape(X_train.shape[0], 28, 28, 1).astype('float32')\n",
        "X_test = X_test.reshape(X_test.shape[0], 28, 28, 1).astype('float32')"
      ],
      "execution_count": 3
    },
    {
      "cell_type": "markdown",
      "metadata": {
        "id": "75bfc804-4b7e-4ce6-b5e8-3ddab966108d"
      },
      "source": [
        "Let's normalize the pixel values to be between 0 and 1\n"
      ]
    },
    {
      "cell_type": "code",
      "metadata": {
        "id": "8cd56d94-762f-4a2b-8116-6f04313c5228"
      },
      "outputs": [],
      "source": [
        "X_train = X_train / 255 # normalize training data\n",
        "X_test = X_test / 255 # normalize test data"
      ],
      "execution_count": 4
    },
    {
      "cell_type": "markdown",
      "metadata": {
        "id": "6e10086d-2c0e-481e-b136-47ce17d7bd47"
      },
      "source": [
        "Next, let's convert the target variable into binary categories\n"
      ]
    },
    {
      "cell_type": "code",
      "metadata": {
        "id": "3a368493-3d57-47f8-a735-7807ba675e3d"
      },
      "outputs": [],
      "source": [
        "y_train = to_categorical(y_train)\n",
        "y_test = to_categorical(y_test)\n",
        "\n",
        "num_classes = y_test.shape[1] # number of categories"
      ],
      "execution_count": 5
    },
    {
      "cell_type": "markdown",
      "metadata": {
        "id": "31a494f7-8bb2-4971-a5b7-a8d17b391958"
      },
      "source": [
        "Next, let's define a function that creates our model. Let's start with one set of convolutional and pooling layers.\n"
      ]
    },
    {
      "cell_type": "code",
      "metadata": {
        "id": "762b15ce-04b4-4b52-91f4-5531b095adc2"
      },
      "outputs": [],
      "source": [
        "def convolutional_model():\n",
        "\n",
        "    # create model\n",
        "    model = Sequential()\n",
        "    model.add(Conv2D(16, (5, 5), strides=(1, 1), activation='relu', input_shape=(28, 28, 1)))\n",
        "    model.add(MaxPooling2D(pool_size=(2, 2), strides=(2, 2)))\n",
        "\n",
        "    model.add(Flatten())\n",
        "    model.add(Dense(100, activation='relu'))\n",
        "    model.add(Dense(num_classes, activation='softmax'))\n",
        "\n",
        "    # compile model\n",
        "    model.compile(optimizer='adam', loss='categorical_crossentropy',  metrics=['accuracy'])\n",
        "    return model"
      ],
      "execution_count": 6
    },
    {
      "cell_type": "markdown",
      "metadata": {
        "id": "adcd9352-8259-49e2-ac90-810ed08838f4"
      },
      "source": [
        "Finally, let's call the function to create the model, and then let's train it and evaluate it.\n"
      ]
    },
    {
      "cell_type": "code",
      "metadata": {
        "colab": {
          "base_uri": "https://localhost:8080/"
        },
        "id": "7bc53a31-62d6-4bbc-b622-2c22b7e45c9f",
        "outputId": "31230c8f-3753-4446-d06e-7f56c3f73830"
      },
      "outputs": [
        {
          "output_type": "stream",
          "name": "stderr",
          "text": [
            "/usr/local/lib/python3.11/dist-packages/keras/src/layers/convolutional/base_conv.py:107: UserWarning: Do not pass an `input_shape`/`input_dim` argument to a layer. When using Sequential models, prefer using an `Input(shape)` object as the first layer in the model instead.\n",
            "  super().__init__(activity_regularizer=activity_regularizer, **kwargs)\n"
          ]
        },
        {
          "output_type": "stream",
          "name": "stdout",
          "text": [
            "Epoch 1/10\n",
            "300/300 - 24s - 78ms/step - accuracy: 0.9186 - loss: 0.2848 - val_accuracy: 0.9695 - val_loss: 0.1028\n",
            "Epoch 2/10\n",
            "300/300 - 41s - 135ms/step - accuracy: 0.9742 - loss: 0.0877 - val_accuracy: 0.9789 - val_loss: 0.0663\n",
            "Epoch 3/10\n",
            "300/300 - 42s - 141ms/step - accuracy: 0.9817 - loss: 0.0592 - val_accuracy: 0.9827 - val_loss: 0.0556\n",
            "Epoch 4/10\n",
            "300/300 - 38s - 127ms/step - accuracy: 0.9862 - loss: 0.0472 - val_accuracy: 0.9835 - val_loss: 0.0476\n",
            "Epoch 5/10\n",
            "300/300 - 22s - 73ms/step - accuracy: 0.9888 - loss: 0.0373 - val_accuracy: 0.9857 - val_loss: 0.0431\n",
            "Epoch 6/10\n",
            "300/300 - 41s - 138ms/step - accuracy: 0.9906 - loss: 0.0310 - val_accuracy: 0.9855 - val_loss: 0.0434\n",
            "Epoch 7/10\n",
            "300/300 - 40s - 132ms/step - accuracy: 0.9919 - loss: 0.0264 - val_accuracy: 0.9845 - val_loss: 0.0466\n",
            "Epoch 8/10\n",
            "300/300 - 22s - 72ms/step - accuracy: 0.9930 - loss: 0.0227 - val_accuracy: 0.9871 - val_loss: 0.0367\n",
            "Epoch 9/10\n",
            "300/300 - 41s - 137ms/step - accuracy: 0.9946 - loss: 0.0185 - val_accuracy: 0.9864 - val_loss: 0.0408\n",
            "Epoch 10/10\n",
            "300/300 - 41s - 136ms/step - accuracy: 0.9948 - loss: 0.0157 - val_accuracy: 0.9860 - val_loss: 0.0459\n",
            "Accuracy: 0.9860000014305115 \n",
            " Error: 1.3999998569488525\n"
          ]
        }
      ],
      "source": [
        "# build the model\n",
        "model = convolutional_model()\n",
        "\n",
        "# fit the model\n",
        "model.fit(X_train, y_train, validation_data=(X_test, y_test), epochs=10, batch_size=200, verbose=2)\n",
        "\n",
        "# evaluate the model\n",
        "scores = model.evaluate(X_test, y_test, verbose=0)\n",
        "print(\"Accuracy: {} \\n Error: {}\".format(scores[1], 100-scores[1]*100))"
      ],
      "execution_count": 10
    },
    {
      "cell_type": "markdown",
      "metadata": {
        "id": "7fda50d4-2b28-4a03-95d3-a78f6e289992"
      },
      "source": [
        "------------------------------------------\n"
      ]
    },
    {
      "cell_type": "markdown",
      "metadata": {
        "id": "dacc665a-cf08-4b37-93e9-51b24a3c5f65"
      },
      "source": [
        "## Convolutional Layer with two sets of convolutional and pooling layers\n"
      ]
    },
    {
      "cell_type": "markdown",
      "metadata": {
        "id": "89123c1f-18ba-402b-8d14-83ed04bac39a"
      },
      "source": [
        "Let's redefine our convolutional model so that it has two convolutional and pooling layers instead of just one layer of each.\n"
      ]
    },
    {
      "cell_type": "code",
      "metadata": {
        "id": "e4b3fb97-94a5-421b-80c1-8c4fe4134eb2"
      },
      "outputs": [],
      "source": [
        "def convolutional_model():\n",
        "\n",
        "    # create model\n",
        "    model = Sequential()\n",
        "    model.add(Conv2D(16, (5, 5), activation='relu', input_shape=(28, 28, 1)))\n",
        "    model.add(MaxPooling2D(pool_size=(2, 2), strides=(2, 2)))\n",
        "\n",
        "    model.add(Conv2D(8, (2, 2), activation='relu'))\n",
        "    model.add(MaxPooling2D(pool_size=(2, 2), strides=(2, 2)))\n",
        "\n",
        "    model.add(Flatten())\n",
        "    model.add(Dense(100, activation='relu'))\n",
        "    model.add(Dense(num_classes, activation='softmax'))\n",
        "\n",
        "    # Compile model\n",
        "    model.compile(optimizer='adam', loss='categorical_crossentropy',  metrics=['accuracy'])\n",
        "    return model"
      ],
      "execution_count": 11
    },
    {
      "cell_type": "markdown",
      "metadata": {
        "id": "90e1050d-e6b1-4a7e-a028-273b119dcc68"
      },
      "source": [
        "Now, let's call the function to create our new convolutional neural network, and then let's train it and evaluate it.\n"
      ]
    },
    {
      "cell_type": "code",
      "metadata": {
        "id": "1c9020f2-a385-4ba5-9923-7fa42be5dd32"
      },
      "outputs": [],
      "source": [
        "# build the model\n",
        "model = convolutional_model()\n",
        "\n",
        "# fit the model\n",
        "model.fit(X_train, y_train, validation_data=(X_test, y_test), epochs=10, batch_size=200, verbose=2)\n",
        "\n",
        "## output:\n",
        "# Epoch 10/10\n",
        "# 300/300 - 40s - 135ms/step - accuracy: 0.9903 - loss: 0.0304 - val_accuracy: 0.9876 - val_loss: 0.0367"
      ],
      "execution_count": null
    },
    {
      "cell_type": "code",
      "source": [
        "# evaluate the model\n",
        "scores = model.evaluate(X_test, y_test, verbose=0)\n",
        "print(\"Accuracy: {} \\n Error: {}\".format(scores[1], 100-scores[1]*100))"
      ],
      "metadata": {
        "colab": {
          "base_uri": "https://localhost:8080/"
        },
        "id": "C9TPPd0o-ars",
        "outputId": "a0e28602-5070-4b68-c2ba-240d435abfa2"
      },
      "execution_count": 13,
      "outputs": [
        {
          "output_type": "stream",
          "name": "stdout",
          "text": [
            "Accuracy: 0.9876000285148621 \n",
            " Error: 1.239997148513794\n"
          ]
        }
      ]
    }
  ],
  "metadata": {
    "kernelspec": {
      "display_name": "Python",
      "language": "python",
      "name": "conda-env-python-py"
    },
    "language_info": {
      "name": ""
    },
    "colab": {
      "provenance": []
    }
  },
  "nbformat": 4,
  "nbformat_minor": 0
}