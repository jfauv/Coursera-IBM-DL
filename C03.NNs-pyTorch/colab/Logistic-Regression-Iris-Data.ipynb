{
  "nbformat": 4,
  "nbformat_minor": 0,
  "metadata": {
    "colab": {
      "provenance": []
    },
    "kernelspec": {
      "name": "python3",
      "display_name": "Python 3"
    },
    "language_info": {
      "name": "python"
    }
  },
  "cells": [
    {
      "cell_type": "code",
      "source": [
        "import torch\n",
        "import torch.nn as nn\n",
        "from torch.utils.data import Dataset, DataLoader\n",
        "from sklearn.datasets import load_iris\n",
        "from sklearn.model_selection import train_test_split\n",
        "from sklearn.metrics import accuracy_score\n",
        "import seaborn as sns"
      ],
      "metadata": {
        "id": "9kpbTlfr2RNu"
      },
      "execution_count": 1,
      "outputs": []
    },
    {
      "cell_type": "code",
      "source": [
        "# data import\n",
        "iris = load_iris()\n",
        "X = iris.data\n",
        "y = iris.target"
      ],
      "metadata": {
        "id": "AN-nI1RD2XDj"
      },
      "execution_count": 2,
      "outputs": []
    },
    {
      "cell_type": "code",
      "source": [
        "# train test split\n",
        "X_train, X_test, y_train, y_test = train_test_split(X, y, test_size = 0.2)\n",
        "X_train = X_train.astype('float32')\n",
        "X_test = X_test.astype('float32')"
      ],
      "metadata": {
        "id": "uuOOYoMM2acC"
      },
      "execution_count": 3,
      "outputs": []
    },
    {
      "cell_type": "code",
      "source": [
        "# dataset\n",
        "class IrisData(Dataset):\n",
        "    def __init__(self, X_train, y_train) -> None:\n",
        "        super().__init__()\n",
        "        self.X = torch.from_numpy(X_train)\n",
        "        self.y = torch.from_numpy(y_train)\n",
        "        self.y = self.y.type(torch.LongTensor)\n",
        "        self.len = self.X.shape[0]\n",
        "\n",
        "    def __getitem__(self, index):\n",
        "        return self.X[index], self.y[index]\n",
        "\n",
        "    def __len__(self):\n",
        "        return self.len"
      ],
      "metadata": {
        "id": "7wGlgX5R3gMs"
      },
      "execution_count": 4,
      "outputs": []
    },
    {
      "cell_type": "code",
      "source": [
        "# dataloader\n",
        "iris_data = IrisData(X_train=X_train, y_train=y_train)\n",
        "train_loader = DataLoader(dataset=iris_data, batch_size=32, shuffle=True)"
      ],
      "metadata": {
        "id": "D51NgoVg35_a"
      },
      "execution_count": 5,
      "outputs": []
    },
    {
      "cell_type": "code",
      "source": [
        "# check dims\n",
        "print(f\"X Shape: {iris_data.X.shape}, y shape: {iris_data.y.shape}\")"
      ],
      "metadata": {
        "colab": {
          "base_uri": "https://localhost:8080/"
        },
        "id": "lnwdEHk24FPy",
        "outputId": "7c117e8b-8b99-4787-88c1-66a1d55c9a08"
      },
      "execution_count": 6,
      "outputs": [
        {
          "output_type": "stream",
          "name": "stdout",
          "text": [
            "X Shape: torch.Size([120, 4]), y shape: torch.Size([120])\n"
          ]
        }
      ]
    },
    {
      "cell_type": "code",
      "source": [
        "# define class\n",
        "class MultiClassNet(nn.Module):\n",
        "    def __init__(self, NUM_FEATURES, NUM_CLASSES, HIDDEN_FEATURES):\n",
        "        super().__init__()\n",
        "        self.lin1 = nn.Linear(NUM_FEATURES, HIDDEN_FEATURES)\n",
        "        self.lin2 = nn.Linear(HIDDEN_FEATURES, NUM_CLASSES)\n",
        "        self.log_softmax = nn.LogSoftmax(dim=1)\n",
        "\n",
        "    def forward(self, x):\n",
        "        x = self.lin1(x)\n",
        "        x = torch.sigmoid(x)\n",
        "        x = self.lin2(x)\n",
        "        x = self.log_softmax(x)\n",
        "        return x"
      ],
      "metadata": {
        "id": "3dd6bw_v4FYr"
      },
      "execution_count": 7,
      "outputs": []
    },
    {
      "cell_type": "code",
      "source": [
        "# hyper parameters\n",
        "NUM_FEATURES = iris_data.X.shape[1]\n",
        "HIDDEN = 6\n",
        "NUM_CLASSES = len(iris_data.y.unique())"
      ],
      "metadata": {
        "id": "uJGUCq-_4Fci"
      },
      "execution_count": 8,
      "outputs": []
    },
    {
      "cell_type": "code",
      "source": [
        "# create model instance\n",
        "model = MultiClassNet(NUM_FEATURES=NUM_FEATURES, NUM_CLASSES=NUM_CLASSES, HIDDEN_FEATURES=HIDDEN)"
      ],
      "metadata": {
        "id": "pJVC7_cv4Ffc"
      },
      "execution_count": 9,
      "outputs": []
    },
    {
      "cell_type": "code",
      "source": [
        "# loss function\n",
        "criterion = nn.CrossEntropyLoss()"
      ],
      "metadata": {
        "id": "hLovKsNr9YTo"
      },
      "execution_count": 10,
      "outputs": []
    },
    {
      "cell_type": "code",
      "source": [
        "# optimizer\n",
        "lr = 0.1\n",
        "optimizer=torch.optim.SGD(model.parameters(), lr=lr)"
      ],
      "metadata": {
        "id": "bLy6vhaM9Ybe"
      },
      "execution_count": 11,
      "outputs": []
    },
    {
      "cell_type": "code",
      "source": [
        "# device = torch.device('cuda:0' if torch.cuda.is_available() else 'cpu')\n",
        "# model.to(device)\n",
        "# y_test = y_test.to(device)"
      ],
      "metadata": {
        "id": "o0doBpVr_CVG"
      },
      "execution_count": 12,
      "outputs": []
    },
    {
      "cell_type": "code",
      "source": [
        "# training\n",
        "NUM_EPOCHS = 100\n",
        "losses = []\n",
        "for epoch in range(NUM_EPOCHS):\n",
        "    for x, y in train_loader:\n",
        "\n",
        "        # initialize gradients\n",
        "        optimizer.zero_grad()\n",
        "\n",
        "        # forward pass\n",
        "        y_hat_log = model(x)\n",
        "\n",
        "        # calculate losses\n",
        "        loss = criterion(y_hat_log, y)\n",
        "\n",
        "        # calculate gradients\n",
        "\n",
        "        loss.backward()\n",
        "        # update parameters\n",
        "        optimizer.step()\n",
        "\n",
        "    losses.append(float(loss.data.detach().numpy()))"
      ],
      "metadata": {
        "id": "uhxRusjJ9lPp"
      },
      "execution_count": 13,
      "outputs": []
    },
    {
      "cell_type": "code",
      "source": [
        "# show losses over epochs\n",
        "sns.lineplot(x= range(len(losses)), y = losses)"
      ],
      "metadata": {
        "colab": {
          "base_uri": "https://localhost:8080/",
          "height": 448
        },
        "id": "LcYXrhas9lTm",
        "outputId": "5428b341-3697-409b-e04d-53d90e955fe9"
      },
      "execution_count": 14,
      "outputs": [
        {
          "output_type": "execute_result",
          "data": {
            "text/plain": [
              "<Axes: >"
            ]
          },
          "metadata": {},
          "execution_count": 14
        },
        {
          "output_type": "display_data",
          "data": {
            "text/plain": [
              "<Figure size 640x480 with 1 Axes>"
            ],
            "image/png": "[encoded data removed]"
          },
          "metadata": {}
        }
      ]
    },
    {
      "cell_type": "code",
      "source": [
        "# test the model\n",
        "X_test_torch = torch.from_numpy(X_test)\n",
        "with torch.no_grad():\n",
        "    y_test_hat_softmax = model(X_test_torch)\n",
        "    y_test_hat = torch.max(y_test_hat_softmax.data, 1)"
      ],
      "metadata": {
        "id": "vg3zNlB-9xXW"
      },
      "execution_count": 15,
      "outputs": []
    },
    {
      "cell_type": "code",
      "source": [
        "# Accuracy\n",
        "accuracy_score(y_test, y_test_hat.indices.numpy())"
      ],
      "metadata": {
        "colab": {
          "base_uri": "https://localhost:8080/"
        },
        "id": "AG6wtt-99xbZ",
        "outputId": "23f1c923-0ad1-4824-f8a4-b5a3b0438d89"
      },
      "execution_count": 16,
      "outputs": [
        {
          "output_type": "execute_result",
          "data": {
            "text/plain": [
              "1.0"
            ]
          },
          "metadata": {},
          "execution_count": 16
        }
      ]
    }
  ]
}