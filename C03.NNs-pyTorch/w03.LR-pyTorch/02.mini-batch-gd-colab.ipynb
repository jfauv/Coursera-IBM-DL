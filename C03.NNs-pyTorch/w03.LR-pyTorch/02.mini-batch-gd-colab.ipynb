{
  "cells": [
    {
      "cell_type": "markdown",
      "metadata": {
        "id": "3c1811fa-0af8-4fc2-99f2-81f7722cb3a7"
      },
      "source": [
        "<h1>Linear Regression 1D: Training Two Parameter Mini-Batch Gradient Decent</h1>\n"
      ]
    },
    {
      "cell_type": "markdown",
      "metadata": {
        "id": "709cf7e9-4a72-49a0-ae24-6805e4f6133b"
      },
      "source": [
        "<h2>Table of Contents</h2>\n",
        "<p>In this Lab, you will practice training a model by using Mini-Batch Gradient Descent.</p>\n",
        "\n",
        "<ul>\n",
        "    <li><a href=\"#Make-Some-Data\">Make Some Data</a></li>\n",
        "    <li><a href=\"#Create-the-Model-and-Cost-Function-(Total-Loss)\">Create the Model and Cost Function (Total Loss)</a></li>\n",
        "    <li><a href=\"#Train-the-Model:-Batch-Gradient-Descent\">Train the Model: Batch Gradient Descent</a></li>\n",
        "    <li><a href=\"#Train-the-Model:-Stochastic-Gradient-Descent-with-Dataset-DataLoader\">Train the Model: Stochastic Gradient Descent with Dataset DataLoader</a></li>\n",
        "    <li><a href=\"#Train-the-Model:-Mini-Batch-Gradient-Descent:-Batch-Size-Equals-5\">Train the Model: Mini Batch Gradient Descent: Batch Size Equals 5</a></li>\n",
        "    <li><a href=\"#Train-the-Model:-Mini-Batch-Gradient-Descent:-Batch-Size-Equals-10\">Train the Model: Mini Batch Gradient Descent: Batch Size Equals 10</a></li>\n",
        "</ul>\n",
        "<p>Estimated Time Needed: <strong>30 min</strong></p>\n",
        "</div>\n",
        "\n",
        "<hr>\n"
      ]
    },
    {
      "cell_type": "markdown",
      "metadata": {
        "id": "671b4543-fc44-41ba-8cdb-68c45875076b"
      },
      "source": [
        "<h2>Preparation</h2>\n"
      ]
    },
    {
      "cell_type": "code",
      "metadata": {
        "id": "395e5041-df28-4548-801d-234541170218"
      },
      "outputs": [],
      "source": [
        "import numpy as np\n",
        "import matplotlib.pyplot as plt\n",
        "from mpl_toolkits import mplot3d"
      ],
      "execution_count": 1
    },
    {
      "cell_type": "markdown",
      "metadata": {
        "id": "23232b63-6090-4856-9d73-3941335aa700"
      },
      "source": [
        "<!-- <h2 id=\"Makeup_Data\">Make Some Data </h2>\n",
        " -->\n",
        " ## Make Some Data\n"
      ]
    },
    {
      "cell_type": "code",
      "metadata": {
        "colab": {
          "base_uri": "https://localhost:8080/"
        },
        "id": "02d39d68-81f4-4dd0-909b-a303e3a893c6",
        "outputId": "c7eb0bb8-748f-4bad-9cec-50fb3b7fa54d"
      },
      "outputs": [
        {
          "output_type": "execute_result",
          "data": {
            "text/plain": [
              "<torch._C.Generator at 0x7a80c179a070>"
            ]
          },
          "metadata": {},
          "execution_count": 3
        }
      ],
      "source": [
        "import torch\n",
        "torch.manual_seed(1)"
      ],
      "execution_count": 3
    },
    {
      "cell_type": "code",
      "metadata": {
        "id": "c391cfad-c1d3-4f21-8b95-44700808df8b"
      },
      "outputs": [],
      "source": [
        "# Generate the data with noise and the line\n",
        "X = torch.arange(-3, 3, 0.1).view(-1, 1)\n",
        "f = 1 * X - 1\n",
        "Y = f + 0.1 * torch.randn(X.size())"
      ],
      "execution_count": 4
    },
    {
      "cell_type": "markdown",
      "metadata": {
        "id": "b23ee2a1-08de-4f1e-8e4c-dfc7a576791e"
      },
      "source": [
        "<!-- <h2 id=\"Model_Cost\">Create the Model and Cost Function (Total Loss) </h2>\n",
        " -->\n",
        " ## Create the Model and Cost Function (Total Loss)\n"
      ]
    },
    {
      "cell_type": "code",
      "metadata": {
        "id": "fdc0b08f-6176-4bef-803c-d3dbaa6bc4e8"
      },
      "outputs": [],
      "source": [
        "# Define the prediction function\n",
        "def forward(x):\n",
        "    return w * x + b"
      ],
      "execution_count": 6
    },
    {
      "cell_type": "code",
      "metadata": {
        "id": "29304705-f3f3-4311-beb5-ad76c98eebb2"
      },
      "outputs": [],
      "source": [
        "# Define the cost function\n",
        "def criterion(yhat, y):\n",
        "    return torch.mean((yhat - y) ** 2)"
      ],
      "execution_count": 7
    },
    {
      "cell_type": "markdown",
      "metadata": {
        "id": "be8c971a-0bc3-4106-9a67-78e8eb1b0f8a"
      },
      "source": [
        "<!-- <h2>Train the Model: Batch Gradient Descent (BGD)</h2>\n",
        " -->\n",
        " ## Train the Model: Batch Gradient Descent\n"
      ]
    },
    {
      "cell_type": "code",
      "metadata": {
        "id": "0f96c9bb-5c67-47c4-90d6-9fc0c1aeff70"
      },
      "outputs": [],
      "source": [
        "# Define the function for training model\n",
        "\n",
        "w = torch.tensor(-15.0, requires_grad = True)\n",
        "b = torch.tensor(-10.0, requires_grad = True)\n",
        "lr = 0.1\n",
        "LOSS_BGD = []\n",
        "\n",
        "def train_model_BGD(epochs):\n",
        "    for epoch in range(epochs):\n",
        "        Yhat = forward(X)\n",
        "        loss = criterion(Yhat, Y)\n",
        "        LOSS_BGD.append(loss)\n",
        "        loss.backward()\n",
        "        w.data = w.data - lr * w.grad.data\n",
        "        b.data = b.data - lr * b.grad.data\n",
        "        w.grad.data.zero_()\n",
        "        b.grad.data.zero_()"
      ],
      "execution_count": 8
    },
    {
      "cell_type": "markdown",
      "metadata": {
        "id": "dc840b8e-87e1-4b43-83d1-ea3235f36fdd"
      },
      "source": [
        "Run 10 epochs of batch gradient descent: <b>bug</b> data space is 1 iteration ahead of parameter space.\n"
      ]
    },
    {
      "cell_type": "code",
      "metadata": {
        "id": "81151868-25c4-4176-80d1-facdaeb32921"
      },
      "outputs": [],
      "source": [
        "# Run train_model_BGD with 10 iterations\n",
        "train_model_BGD(10)"
      ],
      "execution_count": 9
    },
    {
      "cell_type": "markdown",
      "metadata": {
        "id": "3ec60810-c0bf-4a89-889c-1674c418baf4"
      },
      "source": [
        "<!-- <h2 id=\"SGD\"> Stochastic Gradient Descent (SGD) with Dataset DataLoader</h2>\n",
        " -->\n",
        " ## Train the Model: Stochastic Gradient Descent with Dataset DataLoader\n"
      ]
    },
    {
      "cell_type": "code",
      "metadata": {
        "id": "355944e5-6bf5-46b1-8de3-55af19b92d3c"
      },
      "outputs": [],
      "source": [
        "from torch.utils.data import Dataset, DataLoader"
      ],
      "execution_count": 10
    },
    {
      "cell_type": "code",
      "metadata": {
        "id": "e423ce2b-b282-4059-a212-5fb6b7868ec4"
      },
      "outputs": [],
      "source": [
        "# Create class Data\n",
        "\n",
        "class Data(Dataset):\n",
        "\n",
        "    # Constructor\n",
        "    def __init__(self):\n",
        "        self.x = torch.arange(-3, 3, 0.1).view(-1, 1)\n",
        "        self.y = 1 * X - 1\n",
        "        self.len = self.x.shape[0]\n",
        "\n",
        "    # Getter\n",
        "    def __getitem__(self, index):\n",
        "        return self.x[index], self.y[index]\n",
        "\n",
        "    # Get length\n",
        "    def __len__(self):\n",
        "        return self.len"
      ],
      "execution_count": 11
    },
    {
      "cell_type": "code",
      "metadata": {
        "id": "235ce405-f175-44b7-9c5e-06a87120b43f"
      },
      "outputs": [],
      "source": [
        "# Create Data object and DataLoader object\n",
        "dataset = Data()\n",
        "trainloader = DataLoader(dataset = dataset, batch_size = 1)"
      ],
      "execution_count": 12
    },
    {
      "cell_type": "code",
      "metadata": {
        "id": "dd2f854f-a7ea-45c8-93cd-b8e0fc2d9d5b"
      },
      "outputs": [],
      "source": [
        "# Define train_model_SGD function\n",
        "\n",
        "w = torch.tensor(-15.0, requires_grad = True)\n",
        "b = torch.tensor(-10.0, requires_grad = True)\n",
        "LOSS_SGD = []\n",
        "lr = 0.1\n",
        "def train_model_SGD(epochs):\n",
        "    for epoch in range(epochs):\n",
        "        Yhat = forward(X)\n",
        "        LOSS_SGD.append(criterion(forward(X), Y).tolist())\n",
        "        for x, y in trainloader:\n",
        "            yhat = forward(x)\n",
        "            loss = criterion(yhat, y)\n",
        "            loss.backward()\n",
        "            w.data = w.data - lr * w.grad.data\n",
        "            b.data = b.data - lr * b.grad.data\n",
        "            w.grad.data.zero_()\n",
        "            b.grad.data.zero_()"
      ],
      "execution_count": 17
    },
    {
      "cell_type": "code",
      "metadata": {
        "id": "1a566be5-a477-4aea-b2e3-bf8aaf77ebc5"
      },
      "outputs": [],
      "source": [
        "# Run train_model_SGD(iter) with 10 iterations\n",
        "train_model_SGD(10)"
      ],
      "execution_count": 18
    },
    {
      "cell_type": "markdown",
      "metadata": {
        "id": "cb6dfb3e-82d5-46fa-a022-b223357e6b82"
      },
      "source": [
        "<!--Empty Space for separating topics-->\n"
      ]
    },
    {
      "cell_type": "markdown",
      "metadata": {
        "id": "87ee56e3-ca9e-4211-81ff-1bed7105b8b6"
      },
      "source": [
        "<!-- <h2 id=\"Mini5\">Mini Batch Gradient Descent: Batch Size Equals 5</h2>\n",
        " -->\n",
        " ## Train the Model: Mini Batch Gradient Descent: Batch Size Equals 5\n"
      ]
    },
    {
      "cell_type": "code",
      "metadata": {
        "id": "392d93b8-2016-4b2f-ac69-f11862da932f"
      },
      "outputs": [],
      "source": [
        "# Create DataLoader object and Data object\n",
        "dataset = Data()\n",
        "trainloader = DataLoader(dataset = dataset, batch_size = 5)"
      ],
      "execution_count": 19
    },
    {
      "cell_type": "code",
      "metadata": {
        "id": "08fc849d-5aa3-4c6b-9ec0-6b4a3bb6f497"
      },
      "outputs": [],
      "source": [
        "# Define train_model_Mini5 function\n",
        "\n",
        "w = torch.tensor(-15.0, requires_grad = True)\n",
        "b = torch.tensor(-10.0, requires_grad = True)\n",
        "LOSS_MINI5 = []\n",
        "lr = 0.1\n",
        "\n",
        "def train_model_Mini5(epochs):\n",
        "    for epoch in range(epochs):\n",
        "        Yhat = forward(X)\n",
        "        LOSS_MINI5.append(criterion(forward(X), Y).tolist())\n",
        "        for x, y in trainloader:\n",
        "            yhat = forward(x)\n",
        "            loss = criterion(yhat, y)\n",
        "            loss.backward()\n",
        "            w.data = w.data - lr * w.grad.data\n",
        "            b.data = b.data - lr * b.grad.data\n",
        "            w.grad.data.zero_()\n",
        "            b.grad.data.zero_()"
      ],
      "execution_count": 20
    },
    {
      "cell_type": "markdown",
      "metadata": {
        "id": "7980138b-8c5d-4440-affd-7616478adaf0"
      },
      "source": [
        "Run 10 epochs of mini-batch gradient descent: <b>bug</b> data space is 1 iteration ahead of parameter space.\n"
      ]
    },
    {
      "cell_type": "code",
      "metadata": {
        "id": "f34b5d34-1e85-4ec9-a960-b3ef12bd1512"
      },
      "outputs": [],
      "source": [
        "# Run train_model_Mini5 with 10 iterations.\n",
        "train_model_Mini5(10)"
      ],
      "execution_count": 21
    },
    {
      "cell_type": "markdown",
      "metadata": {
        "id": "edebf9a9-a7e2-4e61-a38f-e1268d32c28b"
      },
      "source": [
        "<!--Empty Space for separating topics-->\n"
      ]
    },
    {
      "cell_type": "markdown",
      "metadata": {
        "id": "95c4191d-febd-4cbe-a966-705109d1b715"
      },
      "source": [
        "<!-- <h2 id=\"Mini10\">Mini Batch Gradient Descent: Batch Size Equals 10</h2>\n",
        " -->\n",
        " ## Train the Model: Mini Batch Gradient Descent: Batch Size Equals 10\n"
      ]
    },
    {
      "cell_type": "code",
      "metadata": {
        "id": "c5952fe2-5c2b-49b2-ae37-91ade6e8fbbe"
      },
      "outputs": [],
      "source": [
        "# Create DataLoader object\n",
        "dataset = Data()\n",
        "trainloader = DataLoader(dataset = dataset, batch_size = 10)"
      ],
      "execution_count": 22
    },
    {
      "cell_type": "markdown",
      "metadata": {
        "id": "9b08182d-fed1-4fc9-8b85-a25ac8562d6c"
      },
      "source": [
        "Define <code>train_model_Mini10</code> function for training the model.\n"
      ]
    },
    {
      "cell_type": "code",
      "metadata": {
        "id": "7c9211aa-3746-4df2-82f9-4b06af75051d"
      },
      "outputs": [],
      "source": [
        "# Define train_model_Mini5 function\n",
        "\n",
        "w = torch.tensor(-15.0, requires_grad = True)\n",
        "b = torch.tensor(-10.0, requires_grad = True)\n",
        "LOSS_MINI10 = []\n",
        "lr = 0.1\n",
        "\n",
        "def train_model_Mini10(epochs):\n",
        "    for epoch in range(epochs):\n",
        "        Yhat = forward(X)\n",
        "        LOSS_MINI10.append(criterion(forward(X),Y).tolist())\n",
        "        for x, y in trainloader:\n",
        "            yhat = forward(x)\n",
        "            loss = criterion(yhat, y)\n",
        "            loss.backward()\n",
        "            w.data = w.data - lr * w.grad.data\n",
        "            b.data = b.data - lr * b.grad.data\n",
        "            w.grad.data.zero_()\n",
        "            b.grad.data.zero_()"
      ],
      "execution_count": 23
    },
    {
      "cell_type": "code",
      "metadata": {
        "id": "35c371c5-b8e3-40fe-bd50-d596c217ce55"
      },
      "outputs": [],
      "source": [
        "# Run train_model_Mini5 with 10 iterations.\n",
        "train_model_Mini10(10)"
      ],
      "execution_count": 24
    },
    {
      "cell_type": "code",
      "metadata": {
        "colab": {
          "base_uri": "https://localhost:8080/",
          "height": 448
        },
        "id": "4a82794a-efa6-4632-8d42-c7042df14154",
        "outputId": "51b5083a-6558-4b3b-adce-743f58a0f861"
      },
      "outputs": [
        {
          "output_type": "execute_result",
          "data": {
            "text/plain": [
              "<matplotlib.legend.Legend at 0x7a80996ffc90>"
            ]
          },
          "metadata": {},
          "execution_count": 25
        },
        {
          "output_type": "display_data",
          "data": {
            "text/plain": [
              "<Figure size 640x480 with 1 Axes>"
            ],
            "image/png": "[encoded data removed]"
          },
          "metadata": {}
        }
      ],
      "source": [
        "# Plot out the LOSS for each method\n",
        "LOSS_BGD= [ loss.detach().numpy() for loss in LOSS_BGD]\n",
        "plt.plot(LOSS_BGD,label = \"Batch Gradient Descent\")\n",
        "plt.plot(LOSS_SGD,label = \"Stochastic Gradient Descent\")\n",
        "plt.plot(LOSS_MINI5,label = \"Mini-Batch Gradient Descent, Batch size: 5\")\n",
        "plt.plot(LOSS_MINI10,label = \"Mini-Batch Gradient Descent, Batch size: 10\")\n",
        "plt.legend()"
      ],
      "execution_count": 25
    }
  ],
  "metadata": {
    "kernelspec": {
      "display_name": "Python",
      "language": "python",
      "name": "conda-env-python-py"
    },
    "language_info": {
      "name": "python",
      "version": "3.7.12",
      "mimetype": "text/x-python",
      "codemirror_mode": {
        "name": "ipython",
        "version": 3
      },
      "pygments_lexer": "ipython3",
      "nbconvert_exporter": "python",
      "file_extension": ".py"
    },
    "prev_pub_hash": "348c460561d62a134b0dd3ebad12925f619afd1eb72438d2ead061938c88378c",
    "colab": {
      "provenance": []
    }
  },
  "nbformat": 4,
  "nbformat_minor": 0
}