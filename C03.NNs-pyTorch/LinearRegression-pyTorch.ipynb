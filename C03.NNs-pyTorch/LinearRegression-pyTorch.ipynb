{
  "nbformat": 4,
  "nbformat_minor": 0,
  "metadata": {
    "colab": {
      "provenance": []
    },
    "kernelspec": {
      "name": "python3",
      "display_name": "Python 3"
    },
    "language_info": {
      "name": "python"
    }
  },
  "cells": [
    {
      "cell_type": "code",
      "execution_count": 1,
      "metadata": {
        "id": "uDjMf5OOMVod"
      },
      "outputs": [],
      "source": [
        "import torch\n",
        "from torch.nn import Linear"
      ]
    },
    {
      "cell_type": "code",
      "source": [
        "# Data\n",
        "import numpy as np\n",
        "import matplotlib.pyplot as plt\n",
        "torch.manual_seed(1)\n",
        "x = torch.randn(100, 1) * 10\n",
        "y = x + torch.randn(100, 1) * 3\n",
        "plt.figure(figsize=(4,3))\n",
        "plt.plot(x, y, 'o')"
      ],
      "metadata": {
        "colab": {
          "base_uri": "https://localhost:8080/",
          "height": 309
        },
        "id": "d7GRM8CjPd24",
        "outputId": "9161ecc5-bcf6-4bc1-a70c-4f3756cb4a1a"
      },
      "execution_count": 2,
      "outputs": [
        {
          "output_type": "execute_result",
          "data": {
            "text/plain": [
              "[<matplotlib.lines.Line2D at 0x795cbcb71390>]"
            ]
          },
          "metadata": {},
          "execution_count": 2
        },
        {
          "output_type": "display_data",
          "data": {
            "text/plain": [
              "<Figure size 400x300 with 1 Axes>"
            ],
            "image/png": "[encoded data removed]"
          },
          "metadata": {}
        }
      ]
    },
    {
      "cell_type": "code",
      "source": [
        "# Custom Models\n",
        "import torch.nn as nn\n",
        "class LR(nn.Module):\n",
        "  def __init__(self, input_size, output_size):\n",
        "    super().__init__()\n",
        "    self.linear = nn.Linear(input_size, output_size)\n",
        "\n",
        "  def forward(self, x):\n",
        "    pred = self.linear(x)\n",
        "    return pred"
      ],
      "metadata": {
        "id": "TtqAyyu6NH2q"
      },
      "execution_count": 3,
      "outputs": []
    },
    {
      "cell_type": "code",
      "source": [
        "# Create model\n",
        "model = LR(1, 1)\n",
        "print(model)"
      ],
      "metadata": {
        "colab": {
          "base_uri": "https://localhost:8080/"
        },
        "id": "p6xwf9J5N4xA",
        "outputId": "96676f6f-cc65-47e9-c6ba-218bf57e87c6"
      },
      "execution_count": 4,
      "outputs": [
        {
          "output_type": "stream",
          "name": "stdout",
          "text": [
            "LR(\n",
            "  (linear): Linear(in_features=1, out_features=1, bias=True)\n",
            ")\n"
          ]
        }
      ]
    },
    {
      "cell_type": "code",
      "source": [
        "criterion = nn.MSELoss()\n",
        "optimizer = torch.optim.SGD(model.parameters(), lr=0.01)"
      ],
      "metadata": {
        "id": "6lV63i1IXa5m"
      },
      "execution_count": 5,
      "outputs": []
    },
    {
      "cell_type": "code",
      "source": [
        "optimizer.state_dict()"
      ],
      "metadata": {
        "colab": {
          "base_uri": "https://localhost:8080/"
        },
        "id": "ldxros68q6xT",
        "outputId": "39960bb5-a5c3-45de-830b-427141a36e12"
      },
      "execution_count": 23,
      "outputs": [
        {
          "output_type": "execute_result",
          "data": {
            "text/plain": [
              "{'state': {},\n",
              " 'param_groups': [{'lr': 0.01,\n",
              "   'momentum': 0,\n",
              "   'dampening': 0,\n",
              "   'weight_decay': 0,\n",
              "   'nesterov': False,\n",
              "   'maximize': False,\n",
              "   'foreach': None,\n",
              "   'differentiable': False,\n",
              "   'fused': None,\n",
              "   'params': [0, 1]}]}"
            ]
          },
          "metadata": {},
          "execution_count": 23
        }
      ]
    },
    {
      "cell_type": "code",
      "source": [
        "# def criterion(yhat,y):\n",
        "#    return torch.mean((yhat-y)**2)"
      ],
      "metadata": {
        "id": "ZW8ASy5JjvQO"
      },
      "execution_count": 6,
      "outputs": []
    },
    {
      "cell_type": "code",
      "source": [
        "losses = []\n",
        "epochs = 100\n",
        "for epoch in range(epochs):\n",
        "  y_pred = model.forward(x)\n",
        "  loss = criterion(y_pred, y)\n",
        "  losses.append(loss.item())\n",
        "  if epoch % 10 == 0:\n",
        "    print(\"epoch:\", epoch, \"loss:\", loss.item())\n",
        "  optimizer.zero_grad() # w.grad.data.zero_()\n",
        "  loss.backward()\n",
        "  optimizer.step() # w.data -= lr * w.grad.data"
      ],
      "metadata": {
        "colab": {
          "base_uri": "https://localhost:8080/"
        },
        "id": "AjSnu5MBZEDv",
        "outputId": "6a37d30f-c1c5-46d6-e2bd-4b93b007c1b2"
      },
      "execution_count": 7,
      "outputs": [
        {
          "output_type": "stream",
          "name": "stdout",
          "text": [
            "epoch: 0 loss: 10.461551666259766\n",
            "epoch: 10 loss: 10.294576644897461\n",
            "epoch: 20 loss: 10.1857328414917\n",
            "epoch: 30 loss: 10.114751815795898\n",
            "epoch: 40 loss: 10.068442344665527\n",
            "epoch: 50 loss: 10.038217544555664\n",
            "epoch: 60 loss: 10.018478393554688\n",
            "epoch: 70 loss: 10.005584716796875\n",
            "epoch: 80 loss: 9.997156143188477\n",
            "epoch: 90 loss: 9.991643905639648\n"
          ]
        }
      ]
    },
    {
      "cell_type": "code",
      "source": [
        "# Parameters\n",
        "w, b = model.parameters()\n",
        "w1 = w.item() # w[0][0].item()\n",
        "b1 = b.item() # b[0].item()\n",
        "w1, b1"
      ],
      "metadata": {
        "colab": {
          "base_uri": "https://localhost:8080/"
        },
        "id": "FCU1qIpLTM3f",
        "outputId": "e13e0897-e30f-4121-92be-d53656099520"
      },
      "execution_count": 8,
      "outputs": [
        {
          "output_type": "execute_result",
          "data": {
            "text/plain": [
              "(1.0453596115112305, 0.06317011266946793)"
            ]
          },
          "metadata": {},
          "execution_count": 8
        }
      ]
    },
    {
      "cell_type": "code",
      "source": [
        "print(list(model.parameters()))"
      ],
      "metadata": {
        "colab": {
          "base_uri": "https://localhost:8080/"
        },
        "id": "7o3mgyjWTJK-",
        "outputId": "4c9a8d71-9e26-4531-b355-a961318c199f"
      },
      "execution_count": 9,
      "outputs": [
        {
          "output_type": "stream",
          "name": "stdout",
          "text": [
            "[Parameter containing:\n",
            "tensor([[1.0454]], requires_grad=True), Parameter containing:\n",
            "tensor([0.0632], requires_grad=True)]\n"
          ]
        }
      ]
    },
    {
      "cell_type": "code",
      "source": [
        "plt.plot(range(epochs), losses)\n",
        "plt.xlabel('Epochs')\n",
        "plt.ylabel('Loss')"
      ],
      "metadata": {
        "colab": {
          "base_uri": "https://localhost:8080/",
          "height": 467
        },
        "id": "liSSpqQOa00t",
        "outputId": "d9abe757-86ac-45c0-8cdf-88fe2dfab32a"
      },
      "execution_count": 10,
      "outputs": [
        {
          "output_type": "execute_result",
          "data": {
            "text/plain": [
              "Text(0, 0.5, 'Loss')"
            ]
          },
          "metadata": {},
          "execution_count": 10
        },
        {
          "output_type": "display_data",
          "data": {
            "text/plain": [
              "<Figure size 640x480 with 1 Axes>"
            ],
            "image/png": "[encoded data removed]"
          },
          "metadata": {}
        }
      ]
    },
    {
      "cell_type": "code",
      "source": [
        "x1 = torch.tensor([[-30.0], [30.0]])\n",
        "y1 = model.forward(x1)\n",
        "plt.plot(x1.detach().numpy(), y1.detach().numpy(), 'r', label='Linear Regression')\n",
        "plt.scatter(x.detach().numpy(), y.detach().numpy(), label='Data')\n",
        "plt.legend()"
      ],
      "metadata": {
        "colab": {
          "base_uri": "https://localhost:8080/",
          "height": 448
        },
        "id": "6IfEsk89cRCl",
        "outputId": "23b47df4-2cb5-4cc0-e5c1-85849149b2bd"
      },
      "execution_count": 11,
      "outputs": [
        {
          "output_type": "execute_result",
          "data": {
            "text/plain": [
              "<matplotlib.legend.Legend at 0x795c03f8dd10>"
            ]
          },
          "metadata": {},
          "execution_count": 11
        },
        {
          "output_type": "display_data",
          "data": {
            "text/plain": [
              "<Figure size 640x480 with 1 Axes>"
            ],
            "image/png": "[encoded data removed]"
          },
          "metadata": {}
        }
      ]
    },
    {
      "cell_type": "code",
      "source": [
        "# 1-point prediction\n",
        "v = torch.tensor([2.0])\n",
        "y = model.forward(v)\n",
        "y"
      ],
      "metadata": {
        "colab": {
          "base_uri": "https://localhost:8080/"
        },
        "id": "hYLQjNo6Ofyc",
        "outputId": "9f3e2ee3-f18c-407b-f54e-0fbc804bc061"
      },
      "execution_count": 12,
      "outputs": [
        {
          "output_type": "execute_result",
          "data": {
            "text/plain": [
              "tensor([2.1539], grad_fn=<ViewBackward0>)"
            ]
          },
          "metadata": {},
          "execution_count": 12
        }
      ]
    },
    {
      "cell_type": "code",
      "source": [
        "# 3-point prediction\n",
        "v = torch.tensor([[2.0],[3.3],[0.1]])\n",
        "y = model.forward(v)\n",
        "y"
      ],
      "metadata": {
        "colab": {
          "base_uri": "https://localhost:8080/"
        },
        "id": "C1H-Lb6sO6aW",
        "outputId": "1f941c51-8677-4505-a576-79c3eeb37415"
      },
      "execution_count": 13,
      "outputs": [
        {
          "output_type": "execute_result",
          "data": {
            "text/plain": [
              "tensor([[2.1539],\n",
              "        [3.5129],\n",
              "        [0.1677]], grad_fn=<AddmmBackward0>)"
            ]
          },
          "metadata": {},
          "execution_count": 13
        }
      ]
    },
    {
      "cell_type": "code",
      "source": [
        "# Parameters\n",
        "print(\"Python dictionary: \",model.state_dict())\n",
        "print(\"keys: \",model.state_dict().keys())\n",
        "print(\"values: \",model.state_dict().values())"
      ],
      "metadata": {
        "colab": {
          "base_uri": "https://localhost:8080/"
        },
        "id": "ThtvX2UzfVyG",
        "outputId": "e2cb6d36-e3c5-4c87-a8c4-88380de10c58"
      },
      "execution_count": 14,
      "outputs": [
        {
          "output_type": "stream",
          "name": "stdout",
          "text": [
            "Python dictionary:  OrderedDict([('linear.weight', tensor([[1.0454]])), ('linear.bias', tensor([0.0632]))])\n",
            "keys:  odict_keys(['linear.weight', 'linear.bias'])\n",
            "values:  odict_values([tensor([[1.0454]]), tensor([0.0632])])\n"
          ]
        }
      ]
    },
    {
      "cell_type": "code",
      "source": [
        "print(\"weight:\", model.linear.weight)\n",
        "print(\"Value: \", model.state_dict()['linear.weight'])\n",
        "print(\"bias:\", model.linear.bias)\n",
        "print(\"Value: \", model.state_dict()['linear.bias'])"
      ],
      "metadata": {
        "colab": {
          "base_uri": "https://localhost:8080/"
        },
        "id": "JyOdP2maflpu",
        "outputId": "87f45323-8887-4307-c7b2-089cd2c7f18c"
      },
      "execution_count": 15,
      "outputs": [
        {
          "output_type": "stream",
          "name": "stdout",
          "text": [
            "weight: Parameter containing:\n",
            "tensor([[1.0454]], requires_grad=True)\n",
            "Value:  tensor([[1.0454]])\n",
            "bias: Parameter containing:\n",
            "tensor([0.0632], requires_grad=True)\n",
            "Value:  tensor([0.0632])\n"
          ]
        }
      ]
    },
    {
      "cell_type": "code",
      "source": [
        "list(model.parameters())"
      ],
      "metadata": {
        "colab": {
          "base_uri": "https://localhost:8080/"
        },
        "id": "i4hojK3Mhadc",
        "outputId": "1f8898cf-7455-4826-a1c5-57e3eeb6842d"
      },
      "execution_count": 16,
      "outputs": [
        {
          "output_type": "execute_result",
          "data": {
            "text/plain": [
              "[Parameter containing:\n",
              " tensor([[1.0454]], requires_grad=True),\n",
              " Parameter containing:\n",
              " tensor([0.0632], requires_grad=True)]"
            ]
          },
          "metadata": {},
          "execution_count": 16
        }
      ]
    },
    {
      "cell_type": "markdown",
      "source": [
        "##Dataset and DataLoader"
      ],
      "metadata": {
        "id": "TAEcYnPElFhk"
      }
    },
    {
      "cell_type": "code",
      "source": [
        "# Import the library for DataLoader\n",
        "from torch.utils.data import Dataset, DataLoader"
      ],
      "metadata": {
        "id": "-WvH_DcXhfPm"
      },
      "execution_count": 17,
      "outputs": []
    },
    {
      "cell_type": "code",
      "source": [
        "# Dataset Class\n",
        "class Data(Dataset):\n",
        "\n",
        "    # Constructor\n",
        "    def __init__(self):\n",
        "        self.x = x = torch.randn(100, 1) * 10\n",
        "        self.y = y = x + torch.randn(100, 1) * 3\n",
        "        self.len = self.x.shape[0]\n",
        "\n",
        "    # Getter\n",
        "    def __getitem__(self,index):\n",
        "        return self.x[index], self.y[index]\n",
        "\n",
        "    # Return the length\n",
        "    def __len__(self):\n",
        "        return self.len"
      ],
      "metadata": {
        "id": "VCOVql1YlKrp"
      },
      "execution_count": 18,
      "outputs": []
    },
    {
      "cell_type": "code",
      "source": [
        "# Create the dataset\n",
        "data = Data()"
      ],
      "metadata": {
        "id": "mU9HB-UGlQc7"
      },
      "execution_count": 29,
      "outputs": []
    },
    {
      "cell_type": "code",
      "source": [
        "# Create DataLoader\n",
        "trainloader = DataLoader(dataset = data, batch_size = 100)"
      ],
      "metadata": {
        "id": "ePX2m_PclKvx"
      },
      "execution_count": 30,
      "outputs": []
    },
    {
      "cell_type": "code",
      "source": [
        "# The function for training the model\n",
        "LOSS_Loader = []\n",
        "\n",
        "def train_model_DataLoader(epochs):\n",
        "\n",
        "# Loop\n",
        "  for epoch in range(epochs):\n",
        "    y_pred = model.forward(data[:][0])\n",
        "    loss = criterion(y_pred, data[:][1])\n",
        "    LOSS_Loader.append(loss.item())\n",
        "\n",
        "    for x_, y_ in trainloader:\n",
        "\n",
        "      # make a prediction\n",
        "      y_pred = model.forward(x_)\n",
        "\n",
        "      # Clear gradients\n",
        "      optimizer.zero_grad()\n",
        "\n",
        "      # Backward pass: compute gradient of the loss with respect to all the learnable parameters\n",
        "      loss.backward()\n",
        "\n",
        "      # Updata parameters slope\n",
        "      optimizer.step()"
      ],
      "metadata": {
        "id": "RY0C_MfmlT9E"
      },
      "execution_count": 42,
      "outputs": []
    },
    {
      "cell_type": "code",
      "source": [
        "# Run 10 iterations\n",
        "train_model_DataLoader(10)"
      ],
      "metadata": {
        "id": "B3zZuvp5lclD"
      },
      "execution_count": 43,
      "outputs": []
    },
    {
      "cell_type": "code",
      "source": [
        "# Plot the LOSS_BGD and LOSS_Loader\n",
        "plt.plot(LOSS_Loader,label=\"Stochastic Gradient Descent with DataLoader\")\n",
        "plt.xlabel('epoch')\n",
        "plt.ylabel('Cost/ total loss')\n",
        "plt.legend()\n",
        "plt.show()"
      ],
      "metadata": {
        "colab": {
          "base_uri": "https://localhost:8080/",
          "height": 449
        },
        "id": "tZay-Vymlcxq",
        "outputId": "11015780-4f95-407e-9345-f4c875eddd52"
      },
      "execution_count": 44,
      "outputs": [
        {
          "output_type": "display_data",
          "data": {
            "text/plain": [
              "<Figure size 640x480 with 1 Axes>"
            ],
            "image/png": "[encoded data removed]"
          },
          "metadata": {}
        }
      ]
    }
  ]
}