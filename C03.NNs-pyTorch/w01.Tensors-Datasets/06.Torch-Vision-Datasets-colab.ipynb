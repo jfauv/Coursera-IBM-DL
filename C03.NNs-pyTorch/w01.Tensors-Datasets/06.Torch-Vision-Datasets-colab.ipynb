{
  "cells": [
    {
      "cell_type": "markdown",
      "metadata": {
        "id": "8afd4b0b-151d-4ced-85a5-98a217d81e9e"
      },
      "source": [
        "<h1>Prebuilt Datasets and Transforms</h1>\n"
      ]
    },
    {
      "cell_type": "code",
      "metadata": {
        "colab": {
          "base_uri": "https://localhost:8080/"
        },
        "id": "79eb7ece-b02f-4725-880c-8baaa4c73d96",
        "outputId": "876186bf-0daf-439f-b843-3a9d388ab8e4"
      },
      "outputs": [
        {
          "output_type": "stream",
          "name": "stdout",
          "text": [
            "\u001b[31mERROR: Ignored the following yanked versions: 0.1.6, 0.1.7, 0.1.8, 0.1.9, 0.2.0, 0.2.1, 0.2.2, 0.2.2.post2, 0.2.2.post3, 0.15.0\u001b[0m\u001b[31m\n",
            "\u001b[0m\u001b[31mERROR: Could not find a version that satisfies the requirement torchvision==0.9.1 (from versions: 0.15.1, 0.15.2, 0.16.0, 0.16.1, 0.16.2, 0.17.0, 0.17.1, 0.17.2, 0.18.0, 0.18.1, 0.19.0, 0.19.1, 0.20.0, 0.20.1)\u001b[0m\u001b[31m\n",
            "\u001b[0m\u001b[31mERROR: No matching distribution found for torchvision==0.9.1\u001b[0m\u001b[31m\n",
            "\u001b[0m"
          ]
        },
        {
          "output_type": "execute_result",
          "data": {
            "text/plain": [
              "<torch._C.Generator at 0x7de5fb7caaf0>"
            ]
          },
          "metadata": {},
          "execution_count": 1
        }
      ],
      "source": [
        "# These are the libraries will be used for this lab.\n",
        "!pip install torchvision==0.9.1 torch==1.8.1\n",
        "import torch\n",
        "import matplotlib.pylab as plt\n",
        "import numpy as np\n",
        "torch.manual_seed(0)"
      ],
      "execution_count": 1
    },
    {
      "cell_type": "markdown",
      "metadata": {
        "id": "5914a9bf-9e40-487b-81a5-ef5b0ec743f9"
      },
      "source": [
        "This is the function for displaying images.\n"
      ]
    },
    {
      "cell_type": "code",
      "metadata": {
        "id": "bd1fc374-4713-4641-878b-c7852f69c6a7"
      },
      "outputs": [],
      "source": [
        "# This is the function for displaying images\n",
        "def show_data(data_sample, shape = (28, 28)):\n",
        "    plt.imshow(data_sample[0].numpy().reshape(shape), cmap='gray')\n",
        "    plt.title('y = ' + str(data_sample[1]))"
      ],
      "execution_count": 2
    },
    {
      "cell_type": "markdown",
      "metadata": {
        "id": "94b47953-9db6-49a2-b40c-0207fe576fcb"
      },
      "source": [
        "<!--Empty Space for separating topics-->\n"
      ]
    },
    {
      "cell_type": "markdown",
      "metadata": {
        "id": "b6bacb71-5e5a-497f-a9ad-c2d63370af65"
      },
      "source": [
        "<a name=\"Prebuilt_Dataset\"><h2 id=\"Prebuilt_Dataset\">Prebuilt Datasets</h2></a>\n"
      ]
    },
    {
      "cell_type": "code",
      "metadata": {
        "id": "59dcb651-65ea-4ebf-bd16-d45be8278217"
      },
      "outputs": [],
      "source": [
        "# Run the command below when you do not have torchvision installed\n",
        "# !mamba install -y torchvision\n",
        "import torchvision.transforms as transforms\n",
        "import torchvision.datasets as dsets"
      ],
      "execution_count": 3
    },
    {
      "cell_type": "code",
      "metadata": {
        "colab": {
          "base_uri": "https://localhost:8080/"
        },
        "id": "cdd23d8d-a0ad-4a70-bf65-7c631344bad7",
        "outputId": "f0ca38d7-67ec-45d6-c6e5-f4357d161692"
      },
      "outputs": [
        {
          "output_type": "stream",
          "name": "stdout",
          "text": [
            "Downloading http://yann.lecun.com/exdb/mnist/train-images-idx3-ubyte.gz\n",
            "Failed to download (trying next):\n",
            "<urlopen error [Errno 110] Connection timed out>\n",
            "\n",
            "Downloading https://ossci-datasets.s3.amazonaws.com/mnist/train-images-idx3-ubyte.gz\n",
            "Downloading https://ossci-datasets.s3.amazonaws.com/mnist/train-images-idx3-ubyte.gz to ./data/MNIST/raw/train-images-idx3-ubyte.gz\n"
          ]
        },
        {
          "output_type": "stream",
          "name": "stderr",
          "text": [
            "100%|██████████| 9.91M/9.91M [00:00<00:00, 142MB/s]\n"
          ]
        },
        {
          "output_type": "stream",
          "name": "stdout",
          "text": [
            "Extracting ./data/MNIST/raw/train-images-idx3-ubyte.gz to ./data/MNIST/raw\n",
            "\n",
            "Downloading http://yann.lecun.com/exdb/mnist/train-labels-idx1-ubyte.gz\n",
            "Failed to download (trying next):\n",
            "<urlopen error [Errno 110] Connection timed out>\n",
            "\n",
            "Downloading https://ossci-datasets.s3.amazonaws.com/mnist/train-labels-idx1-ubyte.gz\n",
            "Downloading https://ossci-datasets.s3.amazonaws.com/mnist/train-labels-idx1-ubyte.gz to ./data/MNIST/raw/train-labels-idx1-ubyte.gz\n"
          ]
        },
        {
          "output_type": "stream",
          "name": "stderr",
          "text": [
            "100%|██████████| 28.9k/28.9k [00:00<00:00, 42.4MB/s]"
          ]
        },
        {
          "output_type": "stream",
          "name": "stdout",
          "text": [
            "Extracting ./data/MNIST/raw/train-labels-idx1-ubyte.gz to ./data/MNIST/raw\n",
            "\n",
            "Downloading http://yann.lecun.com/exdb/mnist/t10k-images-idx3-ubyte.gz\n"
          ]
        },
        {
          "output_type": "stream",
          "name": "stderr",
          "text": [
            "\n"
          ]
        },
        {
          "output_type": "stream",
          "name": "stdout",
          "text": [
            "Failed to download (trying next):\n",
            "<urlopen error [Errno 110] Connection timed out>\n",
            "\n",
            "Downloading https://ossci-datasets.s3.amazonaws.com/mnist/t10k-images-idx3-ubyte.gz\n",
            "Downloading https://ossci-datasets.s3.amazonaws.com/mnist/t10k-images-idx3-ubyte.gz to ./data/MNIST/raw/t10k-images-idx3-ubyte.gz\n"
          ]
        },
        {
          "output_type": "stream",
          "name": "stderr",
          "text": [
            "100%|██████████| 1.65M/1.65M [00:00<00:00, 81.1MB/s]"
          ]
        },
        {
          "output_type": "stream",
          "name": "stdout",
          "text": [
            "Extracting ./data/MNIST/raw/t10k-images-idx3-ubyte.gz to ./data/MNIST/raw\n",
            "\n",
            "Downloading http://yann.lecun.com/exdb/mnist/t10k-labels-idx1-ubyte.gz\n"
          ]
        },
        {
          "output_type": "stream",
          "name": "stderr",
          "text": [
            "\n"
          ]
        },
        {
          "output_type": "stream",
          "name": "stdout",
          "text": [
            "Failed to download (trying next):\n",
            "<urlopen error [Errno 110] Connection timed out>\n",
            "\n",
            "Downloading https://ossci-datasets.s3.amazonaws.com/mnist/t10k-labels-idx1-ubyte.gz\n",
            "Downloading https://ossci-datasets.s3.amazonaws.com/mnist/t10k-labels-idx1-ubyte.gz to ./data/MNIST/raw/t10k-labels-idx1-ubyte.gz\n"
          ]
        },
        {
          "output_type": "stream",
          "name": "stderr",
          "text": [
            "100%|██████████| 4.54k/4.54k [00:00<00:00, 4.37MB/s]"
          ]
        },
        {
          "output_type": "stream",
          "name": "stdout",
          "text": [
            "Extracting ./data/MNIST/raw/t10k-labels-idx1-ubyte.gz to ./data/MNIST/raw\n",
            "\n"
          ]
        },
        {
          "output_type": "stream",
          "name": "stderr",
          "text": [
            "\n"
          ]
        }
      ],
      "source": [
        "# Import the prebuilt dataset into variable dataset\n",
        "dataset = dsets.MNIST(\n",
        "    root = './data',\n",
        "    download = True,\n",
        "    transform = transforms.ToTensor()\n",
        ")"
      ],
      "execution_count": 5
    },
    {
      "cell_type": "markdown",
      "metadata": {
        "id": "1d1a1806-e8a9-47aa-9e90-22ecab9048b5"
      },
      "source": [
        "Each element of the dataset object contains a tuple. Let us see whether the first element in the dataset is a tuple and what is in it.\n"
      ]
    },
    {
      "cell_type": "code",
      "metadata": {
        "colab": {
          "base_uri": "https://localhost:8080/"
        },
        "id": "3d626ba9-a106-4932-99c4-890793042cee",
        "outputId": "30ad5bb6-e3c3-4c22-c0fa-c28fe959bec4"
      },
      "outputs": [
        {
          "output_type": "stream",
          "name": "stdout",
          "text": [
            "Type of the first element:  <class 'tuple'>\n",
            "The length of the tuple:  2\n",
            "The shape of the first element in the tuple:  torch.Size([1, 28, 28])\n",
            "The type of the first element in the tuple <class 'torch.Tensor'>\n",
            "The second element in the tuple:  5\n",
            "The type of the second element in the tuple:  <class 'int'>\n",
            "As the result, the structure of the first element in the dataset is (tensor([1, 28, 28]), tensor(7)).\n"
          ]
        }
      ],
      "source": [
        "# Examine whether the elements in dataset MNIST are tuples, and what is in the tuple?\n",
        "print(\"Type of the first element: \", type(dataset[0]))\n",
        "print(\"The length of the tuple: \", len(dataset[0]))\n",
        "print(\"The shape of the first element in the tuple: \", dataset[0][0].shape)\n",
        "print(\"The type of the first element in the tuple\", type(dataset[0][0]))\n",
        "print(\"The second element in the tuple: \", dataset[0][1])\n",
        "print(\"The type of the second element in the tuple: \", type(dataset[0][1]))\n",
        "print(\"As the result, the structure of the first element in the dataset is (tensor([1, 28, 28]), tensor(7)).\")"
      ],
      "execution_count": 6
    },
    {
      "cell_type": "markdown",
      "metadata": {
        "id": "2df71a0a-58d6-485b-aa2f-25f55c5c365f"
      },
      "source": [
        "Let us plot the first element in the dataset:\n"
      ]
    },
    {
      "cell_type": "code",
      "metadata": {
        "colab": {
          "base_uri": "https://localhost:8080/",
          "height": 452
        },
        "id": "b732d844-c6a8-4af3-a6f3-0036b1d14db7",
        "outputId": "0e41773b-38be-45f5-f695-83e55235ed1e"
      },
      "outputs": [
        {
          "output_type": "display_data",
          "data": {
            "text/plain": [
              "<Figure size 640x480 with 1 Axes>"
            ],
            "image/png": "[encoded data removed]"
          },
          "metadata": {}
        }
      ],
      "source": [
        "# Plot the first element in the dataset\n",
        "show_data(dataset[0])"
      ],
      "execution_count": 7
    },
    {
      "cell_type": "markdown",
      "metadata": {
        "id": "82d25ccf-8ec9-4a2d-8ca4-0992687be128"
      },
      "source": [
        "Plot the second sample:   \n"
      ]
    },
    {
      "cell_type": "code",
      "metadata": {
        "colab": {
          "base_uri": "https://localhost:8080/",
          "height": 452
        },
        "id": "5696d698-4319-45f7-be75-c6cda646a7ad",
        "outputId": "44cf3a63-2fc8-47d6-dcdd-5dc722cadce9"
      },
      "outputs": [
        {
          "output_type": "display_data",
          "data": {
            "text/plain": [
              "<Figure size 640x480 with 1 Axes>"
            ],
            "image/png": "[encoded data removed]"
          },
          "metadata": {}
        }
      ],
      "source": [
        "# Plot the second element in the dataset\n",
        "show_data(dataset[1])"
      ],
      "execution_count": 8
    },
    {
      "cell_type": "markdown",
      "metadata": {
        "id": "dc315ed5-cd32-4a8d-a170-cf9f600e60fd"
      },
      "source": [
        "<a name=\"Torchvision\"><h2 id=\"Torchvision\"> Torchvision Transforms  </h2></a>\n"
      ]
    },
    {
      "cell_type": "markdown",
      "metadata": {
        "id": "996e9dca-8fe5-4f78-ae28-6dab91bc0498"
      },
      "source": [
        "We can apply some image transform functions on the MNIST dataset.\n"
      ]
    },
    {
      "cell_type": "markdown",
      "metadata": {
        "id": "673d9d10-c239-4a7b-8ce3-698481f04e50"
      },
      "source": [
        "As an example, the images in the MNIST dataset can be cropped and converted to a tensor. We can use <code>transform.Compose</code> we learned from the previous lab to combine the two transform functions.\n"
      ]
    },
    {
      "cell_type": "code",
      "metadata": {
        "colab": {
          "base_uri": "https://localhost:8080/"
        },
        "id": "053743c9-a071-441b-9c10-aad18f3d6eed",
        "outputId": "e0b4b961-0596-4af0-f0f1-52e892cf6aab"
      },
      "outputs": [
        {
          "output_type": "stream",
          "name": "stdout",
          "text": [
            "The shape of the first element in the first tuple:  torch.Size([1, 20, 20])\n"
          ]
        }
      ],
      "source": [
        "# Combine two transforms: crop and convert to tensor. Apply the compose to MNIST dataset\n",
        "croptensor_data_transform = transforms.Compose([transforms.CenterCrop(20), transforms.ToTensor()])\n",
        "dataset = dsets.MNIST(root = './data', download = True, transform = croptensor_data_transform)\n",
        "print(\"The shape of the first element in the first tuple: \", dataset[0][0].shape)"
      ],
      "execution_count": 9
    },
    {
      "cell_type": "markdown",
      "metadata": {
        "id": "9c53d17b-b263-4132-9579-3e82128a46c5"
      },
      "source": [
        "We can see the image is now 20 x 20 instead of 28 x 28.\n"
      ]
    },
    {
      "cell_type": "markdown",
      "metadata": {
        "id": "3e764376-02e8-43d6-9daf-0ef1129057fd"
      },
      "source": [
        "Let us plot the first image again. Notice that the black space around the <b>7</b> become less apparent.\n"
      ]
    },
    {
      "cell_type": "code",
      "metadata": {
        "colab": {
          "base_uri": "https://localhost:8080/",
          "height": 452
        },
        "id": "5adc3485-67d7-4c57-a47c-4c9975f92ecf",
        "outputId": "69f684d2-b576-4157-c57d-de3a2e0e1c64"
      },
      "outputs": [
        {
          "output_type": "display_data",
          "data": {
            "text/plain": [
              "<Figure size 640x480 with 1 Axes>"
            ],
            "image/png": "[encoded data removed]"
          },
          "metadata": {}
        }
      ],
      "source": [
        "# Plot the first element in the dataset\n",
        "show_data(dataset[0],shape = (20, 20))"
      ],
      "execution_count": 10
    },
    {
      "cell_type": "code",
      "metadata": {
        "colab": {
          "base_uri": "https://localhost:8080/",
          "height": 452
        },
        "id": "ce6b1628-85af-4977-a3b5-c634225f4d0b",
        "outputId": "2602d5cc-796a-46c1-a353-42e6d9142102"
      },
      "outputs": [
        {
          "output_type": "display_data",
          "data": {
            "text/plain": [
              "<Figure size 640x480 with 1 Axes>"
            ],
            "image/png": "[encoded data removed]"
          },
          "metadata": {}
        }
      ],
      "source": [
        "# Plot the second element in the dataset\n",
        "show_data(dataset[1],shape = (20, 20))"
      ],
      "execution_count": 11
    },
    {
      "cell_type": "markdown",
      "metadata": {
        "id": "6c7dc99b-0702-4cc4-98b9-3d191ed9b7a5"
      },
      "source": [
        "In the below example, we horizontally flip the image, and then convert it to a tensor. Use <code>transforms.Compose()</code> to combine these two transform functions. Plot the flipped image.\n"
      ]
    },
    {
      "cell_type": "code",
      "metadata": {
        "colab": {
          "base_uri": "https://localhost:8080/",
          "height": 452
        },
        "id": "78b6d8dd-10d4-4075-8fad-88ebd63fd3db",
        "outputId": "2de4840b-b4e2-49eb-84f5-6233ead7c24c"
      },
      "outputs": [
        {
          "output_type": "display_data",
          "data": {
            "text/plain": [
              "<Figure size 640x480 with 1 Axes>"
            ],
            "image/png": "[encoded data removed]"
          },
          "metadata": {}
        }
      ],
      "source": [
        "# Construct the compose. Apply it on MNIST dataset. Plot the image out.\n",
        "fliptensor_data_transform = transforms.Compose([transforms.RandomHorizontalFlip(p = 1),transforms.ToTensor()])\n",
        "dataset = dsets.MNIST(root = './data', download = True, transform = fliptensor_data_transform)\n",
        "show_data(dataset[1])"
      ],
      "execution_count": 12
    },
    {
      "cell_type": "markdown",
      "metadata": {
        "id": "37bfacf9-954c-4743-9297-2bbd3754b4f4"
      },
      "source": [
        "<h3>Practice</h3>\n"
      ]
    },
    {
      "cell_type": "markdown",
      "metadata": {
        "id": "3e0f401f-fade-446d-80e4-f85f5e6c66a3"
      },
      "source": [
        "Try to use the <code>RandomVerticalFlip</code> (vertically flip the image) with horizontally flip and convert to tensor as a compose. Apply the compose on image. Use <code>show_data()</code> to plot the second image (the image as <b>2</b>).\n"
      ]
    },
    {
      "cell_type": "code",
      "metadata": {
        "colab": {
          "base_uri": "https://localhost:8080/",
          "height": 452
        },
        "id": "52eaf937-5bee-4117-8b8b-7c31d5965292",
        "outputId": "93fb48cb-7589-475d-de5f-23075a209508"
      },
      "outputs": [
        {
          "output_type": "display_data",
          "data": {
            "text/plain": [
              "<Figure size 640x480 with 1 Axes>"
            ],
            "image/png": "[encoded data removed]"
          },
          "metadata": {}
        }
      ],
      "source": [
        "# Practice: Combine vertical flip, horizontal flip and convert to tensor as a compose. Apply the compose on image. Then plot the image\n",
        "my_data_transform = transforms.Compose([transforms.RandomVerticalFlip(p = 1), transforms.RandomHorizontalFlip(p = 1), transforms.ToTensor()])\n",
        "dataset = dsets.MNIST(root = './data', train = False, download = True, transform = my_data_transform)\n",
        "show_data(dataset[1])"
      ],
      "execution_count": 13
    }
  ],
  "metadata": {
    "kernelspec": {
      "display_name": "Python",
      "language": "python",
      "name": "conda-env-python-py"
    },
    "language_info": {
      "name": "python",
      "version": "3.7.12",
      "mimetype": "text/x-python",
      "codemirror_mode": {
        "name": "ipython",
        "version": 3
      },
      "pygments_lexer": "ipython3",
      "nbconvert_exporter": "python",
      "file_extension": ".py"
    },
    "prev_pub_hash": "c2c4f9b0116c792851dda9b297ab64dfb55dd167384932f40b945123ce0ae5d7",
    "colab": {
      "provenance": []
    }
  },
  "nbformat": 4,
  "nbformat_minor": 0
}