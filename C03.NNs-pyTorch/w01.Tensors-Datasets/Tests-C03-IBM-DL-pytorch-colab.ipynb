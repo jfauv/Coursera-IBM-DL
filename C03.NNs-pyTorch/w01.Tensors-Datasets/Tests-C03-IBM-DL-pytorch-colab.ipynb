{
  "nbformat": 4,
  "nbformat_minor": 0,
  "metadata": {
    "colab": {
      "provenance": []
    },
    "kernelspec": {
      "name": "python3",
      "display_name": "Python 3"
    },
    "language_info": {
      "name": "python"
    }
  },
  "cells": [
    {
      "cell_type": "code",
      "execution_count": 41,
      "metadata": {
        "id": "fnVym1PYjAJ1"
      },
      "outputs": [],
      "source": [
        "import torch\n",
        "import numpy as np\n",
        "import matplotlib.pyplot as plt"
      ]
    },
    {
      "cell_type": "code",
      "source": [
        "v1 = torch.tensor([1,2,3])\n",
        "v1, v1.dtype, v1.type(), type(v1)"
      ],
      "metadata": {
        "colab": {
          "base_uri": "https://localhost:8080/"
        },
        "id": "G7S9IZ4cjDjC",
        "outputId": "d580c005-17ad-47b7-eb4b-d358ed4d79f5"
      },
      "execution_count": 18,
      "outputs": [
        {
          "output_type": "execute_result",
          "data": {
            "text/plain": [
              "(tensor([1, 2, 3]), torch.int64, 'torch.LongTensor', torch.Tensor)"
            ]
          },
          "metadata": {},
          "execution_count": 18
        }
      ]
    },
    {
      "cell_type": "code",
      "source": [
        "v1 = torch.tensor([1,2,3], dtype=torch.int32)\n",
        "v1, v1.dtype, v1.type(), type(v1)"
      ],
      "metadata": {
        "colab": {
          "base_uri": "https://localhost:8080/"
        },
        "id": "YHS0AW8ejJUl",
        "outputId": "d6fd528c-fdc8-4248-a6b1-e802a654867c"
      },
      "execution_count": 19,
      "outputs": [
        {
          "output_type": "execute_result",
          "data": {
            "text/plain": [
              "(tensor([1, 2, 3], dtype=torch.int32),\n",
              " torch.int32,\n",
              " 'torch.IntTensor',\n",
              " torch.Tensor)"
            ]
          },
          "metadata": {},
          "execution_count": 19
        }
      ]
    },
    {
      "cell_type": "code",
      "source": [
        "v1 = torch.DoubleTensor([1,2,3,4,5])\n",
        "v1, v1.dtype, v1.type(), type(v1)"
      ],
      "metadata": {
        "colab": {
          "base_uri": "https://localhost:8080/"
        },
        "id": "cEt26uHqjskG",
        "outputId": "5d51b491-d78b-4e91-f6b2-41105facdde1"
      },
      "execution_count": 20,
      "outputs": [
        {
          "output_type": "execute_result",
          "data": {
            "text/plain": [
              "(tensor([1., 2., 3., 4., 5.], dtype=torch.float64),\n",
              " torch.float64,\n",
              " 'torch.DoubleTensor',\n",
              " torch.Tensor)"
            ]
          },
          "metadata": {},
          "execution_count": 20
        }
      ]
    },
    {
      "cell_type": "code",
      "source": [
        "v1 = v1.type(torch.FloatTensor)\n",
        "v1, v1.dtype, v1.type(), type(v1), v1.size(), v1.ndimension()"
      ],
      "metadata": {
        "colab": {
          "base_uri": "https://localhost:8080/"
        },
        "id": "CL_jKoNUkEc2",
        "outputId": "64f518d9-25b8-421c-aa15-9f69cec5b6be"
      },
      "execution_count": 21,
      "outputs": [
        {
          "output_type": "execute_result",
          "data": {
            "text/plain": [
              "(tensor([1., 2., 3., 4., 5.]),\n",
              " torch.float32,\n",
              " 'torch.FloatTensor',\n",
              " torch.Tensor,\n",
              " torch.Size([5]),\n",
              " 1)"
            ]
          },
          "metadata": {},
          "execution_count": 21
        }
      ]
    },
    {
      "cell_type": "code",
      "source": [
        "v1.view(-1,1)"
      ],
      "metadata": {
        "colab": {
          "base_uri": "https://localhost:8080/"
        },
        "id": "p9NAV6uokN4u",
        "outputId": "97c12904-0531-4691-ef13-8f75a5013fe3"
      },
      "execution_count": 22,
      "outputs": [
        {
          "output_type": "execute_result",
          "data": {
            "text/plain": [
              "tensor([[1.],\n",
              "        [2.],\n",
              "        [3.],\n",
              "        [4.],\n",
              "        [5.]])"
            ]
          },
          "metadata": {},
          "execution_count": 22
        }
      ]
    },
    {
      "cell_type": "code",
      "source": [
        "v1 = v1.type(torch.IntTensor)\n",
        "v1.type()"
      ],
      "metadata": {
        "colab": {
          "base_uri": "https://localhost:8080/",
          "height": 35
        },
        "id": "8cQuzOopkx3g",
        "outputId": "3dcfa3fe-8c7c-4d3a-dcf6-d1eb1084599b"
      },
      "execution_count": 23,
      "outputs": [
        {
          "output_type": "execute_result",
          "data": {
            "text/plain": [
              "'torch.IntTensor'"
            ],
            "application/vnd.google.colaboratory.intrinsic+json": {
              "type": "string"
            }
          },
          "metadata": {},
          "execution_count": 23
        }
      ]
    },
    {
      "cell_type": "code",
      "source": [
        "np1 = np.array([0.0, 1.0, 2.3])\n",
        "v2 = torch.from_numpy(np1)\n",
        "v2 = v2.type(torch.FloatTensor)\n",
        "v2, v2.dtype"
      ],
      "metadata": {
        "colab": {
          "base_uri": "https://localhost:8080/"
        },
        "id": "JTksGNsEkfQb",
        "outputId": "af60bcfe-e510-4cc8-96bd-0c652f2b0c9d"
      },
      "execution_count": 34,
      "outputs": [
        {
          "output_type": "execute_result",
          "data": {
            "text/plain": [
              "(tensor([0.0000, 1.0000, 2.3000]), torch.float32)"
            ]
          },
          "metadata": {},
          "execution_count": 34
        }
      ]
    },
    {
      "cell_type": "code",
      "source": [
        "np2 = v2.numpy()\n",
        "np2, np2.dtype"
      ],
      "metadata": {
        "colab": {
          "base_uri": "https://localhost:8080/"
        },
        "id": "FdCFWpJjk7o0",
        "outputId": "20447eed-bb16-4d7f-9b54-80cc4ac74a68"
      },
      "execution_count": 35,
      "outputs": [
        {
          "output_type": "execute_result",
          "data": {
            "text/plain": [
              "(array([0. , 1. , 2.3], dtype=float32), dtype('float32'))"
            ]
          },
          "metadata": {},
          "execution_count": 35
        }
      ]
    },
    {
      "cell_type": "code",
      "source": [
        "v2.tolist(), v2[2].item()"
      ],
      "metadata": {
        "colab": {
          "base_uri": "https://localhost:8080/"
        },
        "id": "p1XYhm3RlMd7",
        "outputId": "2fcc4b2f-dc8f-43d7-ed11-7b214663362c"
      },
      "execution_count": 39,
      "outputs": [
        {
          "output_type": "execute_result",
          "data": {
            "text/plain": [
              "([0.0, 1.0, 2.299999952316284], 2.299999952316284)"
            ]
          },
          "metadata": {},
          "execution_count": 39
        }
      ]
    },
    {
      "cell_type": "code",
      "source": [
        "v2.mean(), v2.std(), v2.sum()"
      ],
      "metadata": {
        "colab": {
          "base_uri": "https://localhost:8080/"
        },
        "id": "PSc1jtGgl82Y",
        "outputId": "a1bf31d3-0682-4617-872f-ee3c02f99adb"
      },
      "execution_count": 40,
      "outputs": [
        {
          "output_type": "execute_result",
          "data": {
            "text/plain": [
              "(tensor(1.1000), tensor(1.1533), tensor(3.3000))"
            ]
          },
          "metadata": {},
          "execution_count": 40
        }
      ]
    },
    {
      "cell_type": "code",
      "source": [
        "x = torch.linspace(0, 2*np.pi, 360)\n",
        "y = torch.sin(x)\n",
        "plt.plot(x,y)\n",
        "# plt.plot(x.numpy(), y.numpy())\n",
        "x.shape"
      ],
      "metadata": {
        "colab": {
          "base_uri": "https://localhost:8080/",
          "height": 447
        },
        "id": "dOhaxf1PmUPE",
        "outputId": "f4b749a0-c941-43d5-8b2e-0ed03471359c"
      },
      "execution_count": 44,
      "outputs": [
        {
          "output_type": "execute_result",
          "data": {
            "text/plain": [
              "torch.Size([360])"
            ]
          },
          "metadata": {},
          "execution_count": 44
        },
        {
          "output_type": "display_data",
          "data": {
            "text/plain": [
              "<Figure size 640x480 with 1 Axes>"
            ],
            "image/png": "[encoded data removed]"
          },
          "metadata": {}
        }
      ]
    },
    {
      "cell_type": "code",
      "source": [
        "# torch.dot()\n",
        "# torch.mm()"
      ],
      "metadata": {
        "id": "KhN_1zMNmtxN"
      },
      "execution_count": null,
      "outputs": []
    },
    {
      "cell_type": "code",
      "source": [
        "# derivatives\n",
        "x = torch.tensor(2, requires_grad=True, dtype=torch.float64)\n",
        "y = x ** 2\n",
        "y.backward()\n",
        "dy_dx = x.grad\n",
        "dy_dx"
      ],
      "metadata": {
        "colab": {
          "base_uri": "https://localhost:8080/"
        },
        "id": "kwQ-EWIvnQHo",
        "outputId": "17c511d2-cd4c-4004-d732-7bdf3c10c2b8"
      },
      "execution_count": 49,
      "outputs": [
        {
          "output_type": "execute_result",
          "data": {
            "text/plain": [
              "tensor(4., dtype=torch.float64)"
            ]
          },
          "metadata": {},
          "execution_count": 49
        }
      ]
    },
    {
      "cell_type": "code",
      "source": [
        "# Dataset\n",
        "from torch.utils.data import Dataset\n",
        "\n",
        "class myData(Dataset):\n",
        "  def __init__(self, length=10):\n",
        "    self.x = torch.tensor([1,2,3,4,5,6,7,8,9,19])\n",
        "    self.y = torch.remainder(self.x, 2)\n",
        "    self.len = length\n",
        "\n",
        "  def __getitem__(self, index):\n",
        "    sample = self.x[index], self.y[index]\n",
        "    return sample\n",
        "\n",
        "  def __len__(self):\n",
        "    return self.len"
      ],
      "metadata": {
        "id": "UKInLuSpnc-_"
      },
      "execution_count": 98,
      "outputs": []
    },
    {
      "cell_type": "code",
      "source": [
        "dataset = myData()\n",
        "for i in range(10):\n",
        "  x, y = dataset[i]\n",
        "  text = 'Par' if y == 0 else 'Impar'\n",
        "  print(f\"{x.item()}: {text}\")"
      ],
      "metadata": {
        "colab": {
          "base_uri": "https://localhost:8080/"
        },
        "id": "8TjJo753pq_A",
        "outputId": "996517a1-00c8-4e40-94d9-f6e36a82555c"
      },
      "execution_count": 99,
      "outputs": [
        {
          "output_type": "stream",
          "name": "stdout",
          "text": [
            "1: Impar\n",
            "2: Par\n",
            "3: Impar\n",
            "4: Par\n",
            "5: Impar\n",
            "6: Par\n",
            "7: Impar\n",
            "8: Par\n",
            "9: Impar\n",
            "19: Impar\n"
          ]
        }
      ]
    },
    {
      "cell_type": "code",
      "source": [
        "# Dataset with Transform\n",
        "from torch.utils.data import Dataset\n",
        "\n",
        "class myData(Dataset):\n",
        "  def __init__(self, length=10, transform=None):\n",
        "    self.x = torch.tensor([1,2,3,4,5,6,7,8,9,19])\n",
        "    self.y = torch.remainder(self.x, 2)\n",
        "    self.len = length\n",
        "    self.transform = transform\n",
        "\n",
        "  def __getitem__(self, index):\n",
        "    sample = self.x[index], self.y[index]\n",
        "    if self.transform:\n",
        "      sample = self.transform(sample)\n",
        "    return sample\n",
        "\n",
        "  def __len__(self):\n",
        "    return self.len"
      ],
      "metadata": {
        "id": "aGogvFCGrCYJ"
      },
      "execution_count": 100,
      "outputs": []
    },
    {
      "cell_type": "code",
      "source": [
        "# Transform\n",
        "class transform_sum(object):\n",
        "  def __init__(self, addx=0, addy=0):\n",
        "    self.addx = addx\n",
        "    self.addy = addy\n",
        "\n",
        "  def __call__(self, sample):\n",
        "    x = sample[0]\n",
        "    y = sample[1]\n",
        "    x += self.addx\n",
        "    y = (y + self.addy) % 2\n",
        "    sample = x, y\n",
        "    return sample"
      ],
      "metadata": {
        "id": "a_vwpmMgs4mD"
      },
      "execution_count": 101,
      "outputs": []
    },
    {
      "cell_type": "code",
      "source": [
        "transform_sum_100 = transform_sum(100, 0)\n",
        "transform_sum_51 = transform_sum(51, 1)\n",
        "dataset = myData(transform=transform_sum_100)\n",
        "for i in range(10):\n",
        "  x, y = dataset[i]\n",
        "  text = 'Par' if y == 0 else 'Impar'\n",
        "  print(f\"{x.item()}: {text}\")"
      ],
      "metadata": {
        "colab": {
          "base_uri": "https://localhost:8080/"
        },
        "id": "F8aggzyPumTi",
        "outputId": "5242f884-a4ce-47cd-e306-2824a6a05f52"
      },
      "execution_count": 103,
      "outputs": [
        {
          "output_type": "stream",
          "name": "stdout",
          "text": [
            "101: Impar\n",
            "102: Par\n",
            "103: Impar\n",
            "104: Par\n",
            "105: Impar\n",
            "106: Par\n",
            "107: Impar\n",
            "108: Par\n",
            "109: Impar\n",
            "119: Impar\n"
          ]
        }
      ]
    },
    {
      "cell_type": "code",
      "source": [
        "# Transforms Compose\n",
        "from torchvision import transforms\n",
        "\n",
        "data_trasform = transforms.Compose([transform_sum_100, transform_sum_51])\n",
        "dataset = myData(transform=data_trasform)\n",
        "for i in range(10):\n",
        "  x, y = dataset[i]\n",
        "  text = 'Par' if y == 0 else 'Impar'\n",
        "  print(f\"{x.item()}: {text}\")"
      ],
      "metadata": {
        "colab": {
          "base_uri": "https://localhost:8080/"
        },
        "id": "ydv_vV_2vzSj",
        "outputId": "2b613c29-39b9-41d6-ef72-4fe61f3d3f65"
      },
      "execution_count": 104,
      "outputs": [
        {
          "output_type": "stream",
          "name": "stdout",
          "text": [
            "152: Par\n",
            "153: Impar\n",
            "154: Par\n",
            "155: Impar\n",
            "156: Par\n",
            "157: Impar\n",
            "158: Par\n",
            "159: Impar\n",
            "160: Par\n",
            "170: Par\n"
          ]
        }
      ]
    },
    {
      "cell_type": "code",
      "source": [
        "# Dataset for images\n",
        "# Torch Vision Datasets\n",
        "from PIL import Image\n",
        "import pandas as pd\n",
        "import os\n",
        "from torch.utils.data import Dataset, DataLoader"
      ],
      "metadata": {
        "id": "7qysfQFCxgsE"
      },
      "execution_count": 105,
      "outputs": []
    },
    {
      "cell_type": "code",
      "source": [
        "# image = Image.open()\n",
        "# plt.imshow(image, cmap='gray', vmin=0, vmax=255)\n",
        "# plt.tilte()\n",
        "# plt.show()"
      ],
      "metadata": {
        "id": "K8Vje-PYzex7"
      },
      "execution_count": null,
      "outputs": []
    },
    {
      "cell_type": "code",
      "source": [
        "# Torch Vision Transforms\n",
        "import torchvision.transforms as transforms\n",
        "t1 = transforms.CenterCrop(20)\n",
        "t2 = transforms.ToTensor()\n",
        "tr = transforms.Compose([t1, t2])\n",
        "#dataset = Dataset(csv_file = , data_dir = , transform = tr)\n",
        "dataset[0][0].shape # [1,20,20]"
      ],
      "metadata": {
        "colab": {
          "base_uri": "https://localhost:8080/"
        },
        "id": "crFIA26ix2Ds",
        "outputId": "51531c14-12ce-4054-ae59-3d35c81b5aeb"
      },
      "execution_count": 106,
      "outputs": [
        {
          "output_type": "execute_result",
          "data": {
            "text/plain": [
              "torch.Size([])"
            ]
          },
          "metadata": {},
          "execution_count": 106
        }
      ]
    },
    {
      "cell_type": "code",
      "source": [
        "# Torch Vision Datasets\n",
        "import torchvision.datasets as dsets\n",
        "dataset = dsets.MNIST(root='./data', train=False, download=True, transform=transfoms.ToTensor())"
      ],
      "metadata": {
        "id": "dxmZ201lz098"
      },
      "execution_count": null,
      "outputs": []
    }
  ]
}