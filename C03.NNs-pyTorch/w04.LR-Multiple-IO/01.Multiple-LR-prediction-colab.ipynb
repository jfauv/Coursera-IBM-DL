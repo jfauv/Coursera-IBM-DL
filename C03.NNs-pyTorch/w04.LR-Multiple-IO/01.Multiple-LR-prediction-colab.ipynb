{
  "cells": [
    {
      "cell_type": "markdown",
      "metadata": {
        "id": "64169817-064e-4ac9-8391-8063a4de900a"
      },
      "source": [
        "<h1>Multiple Linear Regression</h1>\n"
      ]
    },
    {
      "cell_type": "code",
      "metadata": {
        "colab": {
          "base_uri": "https://localhost:8080/"
        },
        "id": "0e38a08c-77d8-4a40-8582-cf6c7b945b81",
        "outputId": "9a0b5cbb-be04-4d8a-f164-22a548686733"
      },
      "outputs": [
        {
          "output_type": "execute_result",
          "data": {
            "text/plain": [
              "<torch._C.Generator at 0x7e6c2d09de10>"
            ]
          },
          "metadata": {},
          "execution_count": 1
        }
      ],
      "source": [
        "from torch import nn\n",
        "import torch\n",
        "torch.manual_seed(1)"
      ],
      "execution_count": 1
    },
    {
      "cell_type": "markdown",
      "metadata": {
        "id": "51388242-76d1-4ba1-8049-f91deb85de76"
      },
      "source": [
        "<h2 id=\"Prediction\">Prediction</h2>\n"
      ]
    },
    {
      "cell_type": "code",
      "metadata": {
        "id": "e88ed045-9724-4b31-88cf-b0bbd83a3472"
      },
      "outputs": [],
      "source": [
        "# Set the weight and bias\n",
        "w = torch.tensor([[2.0], [3.0]], requires_grad=True)\n",
        "b = torch.tensor([[1.0]], requires_grad=True)"
      ],
      "execution_count": 2
    },
    {
      "cell_type": "code",
      "metadata": {
        "id": "dd966715-dd3f-4403-94ae-163927d9df25"
      },
      "outputs": [],
      "source": [
        "# Define Prediction Function\n",
        "def forward(x):\n",
        "    yhat = torch.mm(x, w) + b\n",
        "    return yhat"
      ],
      "execution_count": 3
    },
    {
      "cell_type": "markdown",
      "metadata": {
        "id": "f7c47902-74cd-48d6-989d-11b7efe59c69"
      },
      "source": [
        "The function <code>forward</code> implements the following equation:\n"
      ]
    },
    {
      "cell_type": "markdown",
      "metadata": {
        "id": "758f6f9a-058b-43d3-9cd5-8635fd49e48b"
      },
      "source": [
        "<img src=\"https://s3-api.us-geo.objectstorage.softlayer.net/cf-courses-data/CognitiveClass/DL0110EN/notebook_images%20/chapter2/2.6.1_matrix_eq.png\" width=\"600\" alt=\"Matrix Linear Regression\">\n"
      ]
    },
    {
      "cell_type": "markdown",
      "metadata": {
        "id": "a1e209b3-2cb5-4277-b27c-2cf27985724c"
      },
      "source": [
        "If we input a <i>1x2</i> tensor, because we have a <i>2x1</i> tensor as <code>w</code>, we will get a <i>1x1</i> tensor:\n"
      ]
    },
    {
      "cell_type": "code",
      "metadata": {
        "colab": {
          "base_uri": "https://localhost:8080/"
        },
        "id": "7349c341-fa60-4b82-9c90-c557aff986e5",
        "outputId": "51d9f94a-3b93-4bcd-d430-dbe00073c0a0"
      },
      "outputs": [
        {
          "output_type": "stream",
          "name": "stdout",
          "text": [
            "The result:  tensor([[9.]], grad_fn=<AddBackward0>)\n"
          ]
        }
      ],
      "source": [
        "# Calculate yhat\n",
        "x = torch.tensor([[1.0, 2.0]])\n",
        "yhat = forward(x)\n",
        "print(\"The result: \", yhat)"
      ],
      "execution_count": 4
    },
    {
      "cell_type": "markdown",
      "metadata": {
        "id": "e54c6bff-e5a5-463b-a18b-eb0dd8632ddb"
      },
      "source": [
        "<img src=\"https://cf-courses-data.s3.us.cloud-object-storage.appdomain.cloud/JBkvPoMCCa-PDXCF_4aQfQ/image%20-1-.png\" width=\"300\" alt=\"Linear Regression Matrix Sample One\">\n"
      ]
    },
    {
      "cell_type": "markdown",
      "metadata": {
        "id": "1ec86c49-317e-4571-beb8-6f2d08fa7f57"
      },
      "source": [
        "# Each row of the following tensor represents a sample:\n"
      ]
    },
    {
      "cell_type": "code",
      "metadata": {
        "id": "76eab590-ce35-429c-9f83-6520fbef81bf"
      },
      "outputs": [],
      "source": [
        "# Sample tensor X\n",
        "X = torch.tensor([[1.0, 1.0], [1.0, 2.0], [1.0, 3.0]])"
      ],
      "execution_count": 5
    },
    {
      "cell_type": "code",
      "metadata": {
        "colab": {
          "base_uri": "https://localhost:8080/"
        },
        "id": "00dd434e-89f2-4b86-88eb-d4064040660a",
        "outputId": "aa5fbb82-23af-4523-dee6-65394c189ac3"
      },
      "outputs": [
        {
          "output_type": "stream",
          "name": "stdout",
          "text": [
            "The result:  tensor([[ 6.],\n",
            "        [ 9.],\n",
            "        [12.]], grad_fn=<AddBackward0>)\n"
          ]
        }
      ],
      "source": [
        "# Make the prediction of X\n",
        "yhat = forward(X)\n",
        "print(\"The result: \", yhat)"
      ],
      "execution_count": 6
    },
    {
      "cell_type": "markdown",
      "metadata": {
        "id": "67eca4f4-06bb-4865-9fb3-c7b5f9245996"
      },
      "source": [
        "## Class Linear\n"
      ]
    },
    {
      "cell_type": "code",
      "metadata": {
        "id": "90fd71d2-9109-4d36-8075-b7eced9df978"
      },
      "outputs": [],
      "source": [
        "# Make a linear regression model using build-in function\n",
        "model = nn.Linear(2, 1)"
      ],
      "execution_count": 7
    },
    {
      "cell_type": "code",
      "metadata": {
        "colab": {
          "base_uri": "https://localhost:8080/"
        },
        "id": "372ece5c-f034-4e2e-83d1-101f4b22a6c5",
        "outputId": "af0940ed-a689-483d-cc2a-e7cea8d2a2fc"
      },
      "outputs": [
        {
          "output_type": "stream",
          "name": "stdout",
          "text": [
            "The result:  tensor([[-0.3969]], grad_fn=<AddmmBackward0>)\n"
          ]
        }
      ],
      "source": [
        "# Make a prediction of x\n",
        "yhat = model(x)\n",
        "print(\"The result: \", yhat)"
      ],
      "execution_count": 8
    },
    {
      "cell_type": "code",
      "metadata": {
        "colab": {
          "base_uri": "https://localhost:8080/"
        },
        "id": "fc01949b-a473-46c4-8e1b-091e07af11dd",
        "outputId": "b485f569-010b-4fd6-ae4c-9b837daa44e0"
      },
      "outputs": [
        {
          "output_type": "stream",
          "name": "stdout",
          "text": [
            "The result:  tensor([[-0.0848],\n",
            "        [-0.3969],\n",
            "        [-0.7090]], grad_fn=<AddmmBackward0>)\n"
          ]
        }
      ],
      "source": [
        "# Make a prediction of X\n",
        "yhat = model(X)\n",
        "print(\"The result: \", yhat)"
      ],
      "execution_count": 9
    },
    {
      "cell_type": "markdown",
      "metadata": {
        "id": "9472629d-58b6-4445-b6f0-1a6b2c141429"
      },
      "source": [
        "The function performs matrix multiplication as shown in this image:\n"
      ]
    },
    {
      "cell_type": "markdown",
      "metadata": {
        "id": "3ae1e34b-4b16-40a6-a69e-aca0722d4d8a"
      },
      "source": [
        "<img src=\"https://s3-api.us-geo.objectstorage.softlayer.net/cf-courses-data/CognitiveClass/DL0110EN/notebook_images%20/chapter2/2.6.1multi_sample_example.png\" width=\"600\" alt=\"Linear Regression Matrix Sample One\">\n"
      ]
    },
    {
      "cell_type": "markdown",
      "metadata": {
        "id": "7faacdc0-004b-4097-97ac-5ec7f3f4b521"
      },
      "source": [
        "## Build Custom Modules\n"
      ]
    },
    {
      "cell_type": "code",
      "metadata": {
        "id": "3cefedbc-13a7-409a-af6c-614e698b5289"
      },
      "outputs": [],
      "source": [
        "# Create linear_regression Class\n",
        "\n",
        "class linear_regression(nn.Module):\n",
        "\n",
        "    # Constructor\n",
        "    def __init__(self, input_size, output_size):\n",
        "        super(linear_regression, self).__init__()\n",
        "        self.linear = nn.Linear(input_size, output_size)\n",
        "\n",
        "    # Prediction function\n",
        "    def forward(self, x):\n",
        "        yhat = self.linear(x)\n",
        "        return yhat"
      ],
      "execution_count": 10
    },
    {
      "cell_type": "markdown",
      "metadata": {
        "id": "920174e9-14e2-4b9d-b6b3-46ffc9494808"
      },
      "source": [
        "Build a linear regression object. The input feature size is two.\n"
      ]
    },
    {
      "cell_type": "code",
      "metadata": {
        "id": "dc8f60ee-a303-433b-9d28-b1c7f7ca283f"
      },
      "outputs": [],
      "source": [
        "model = linear_regression(2, 1)"
      ],
      "execution_count": 11
    },
    {
      "cell_type": "markdown",
      "metadata": {
        "id": "0739d1d4-2f6d-4d07-a2e3-1fcea998d4d3"
      },
      "source": [
        "You can see the randomly initialized parameters by using the <code>parameters()</code> method:\n"
      ]
    },
    {
      "cell_type": "code",
      "metadata": {
        "colab": {
          "base_uri": "https://localhost:8080/"
        },
        "id": "6031d040-8f45-447a-b622-772e8056cf89",
        "outputId": "c91d6f35-05ac-4e1c-a385-d68f1eb221f7"
      },
      "outputs": [
        {
          "output_type": "stream",
          "name": "stdout",
          "text": [
            "The parameters:  [Parameter containing:\n",
            "tensor([[ 0.3319, -0.6657]], requires_grad=True), Parameter containing:\n",
            "tensor([0.4241], requires_grad=True)]\n"
          ]
        }
      ],
      "source": [
        "# Print model parameters\n",
        "print(\"The parameters: \", list(model.parameters()))"
      ],
      "execution_count": 12
    },
    {
      "cell_type": "markdown",
      "metadata": {
        "id": "ae26fd8c-1a8b-4ee0-8bd4-833350f16a3a"
      },
      "source": [
        "You can also see the parameters by using the <code>state_dict()</code> method:\n"
      ]
    },
    {
      "cell_type": "code",
      "metadata": {
        "colab": {
          "base_uri": "https://localhost:8080/"
        },
        "id": "90ec4463-66e4-41a0-b779-a32798ff317a",
        "outputId": "bb00c08b-4562-4e8a-eb09-562b7bb1875e"
      },
      "outputs": [
        {
          "output_type": "stream",
          "name": "stdout",
          "text": [
            "The parameters:  OrderedDict([('linear.weight', tensor([[ 0.3319, -0.6657]])), ('linear.bias', tensor([0.4241]))])\n"
          ]
        }
      ],
      "source": [
        "# Print model parameters\n",
        "print(\"The parameters: \", model.state_dict())"
      ],
      "execution_count": 13
    },
    {
      "cell_type": "markdown",
      "metadata": {
        "id": "642b2c6f-2d98-4cf4-9101-c0c196f2172f"
      },
      "source": [
        "Now we input a 1x2 tensor, and we will get a 1x1 tensor.\n"
      ]
    },
    {
      "cell_type": "code",
      "metadata": {
        "colab": {
          "base_uri": "https://localhost:8080/"
        },
        "id": "eaf8073c-4772-45b0-8a56-3d30d9ebb145",
        "outputId": "587d46a6-4677-4b27-e892-519d3219308a"
      },
      "outputs": [
        {
          "output_type": "stream",
          "name": "stdout",
          "text": [
            "The result:  tensor([[-0.5754]], grad_fn=<AddmmBackward0>)\n"
          ]
        }
      ],
      "source": [
        "# Make a prediction of x\n",
        "yhat = model(x)\n",
        "print(\"The result: \", yhat)"
      ],
      "execution_count": 14
    },
    {
      "cell_type": "markdown",
      "metadata": {
        "id": "ea9b42f0-acf7-417e-8e0d-2f08f8dd0043"
      },
      "source": [
        "The shape of the output is shown in the following image:\n"
      ]
    },
    {
      "cell_type": "markdown",
      "metadata": {
        "id": "fa3852d6-91f3-4b1c-9c0d-ca9439d9cfe2"
      },
      "source": [
        "Make a prediction for multiple samples:\n"
      ]
    },
    {
      "cell_type": "code",
      "metadata": {
        "colab": {
          "base_uri": "https://localhost:8080/"
        },
        "id": "cff6f7ec-776c-422e-8df9-3b76e48963b4",
        "outputId": "581cccf1-b0ae-46da-8682-2bdbbb1f45ba"
      },
      "outputs": [
        {
          "output_type": "stream",
          "name": "stdout",
          "text": [
            "The result:  tensor([[ 0.0903],\n",
            "        [-0.5754],\n",
            "        [-1.2411]], grad_fn=<AddmmBackward0>)\n"
          ]
        }
      ],
      "source": [
        "# Make a prediction of X\n",
        "yhat = model(X)\n",
        "print(\"The result: \", yhat)"
      ],
      "execution_count": 15
    }
  ],
  "metadata": {
    "kernelspec": {
      "display_name": "Python",
      "language": "python",
      "name": "conda-env-python-py"
    },
    "language_info": {
      "name": "python",
      "version": "3.7.12",
      "mimetype": "text/x-python",
      "codemirror_mode": {
        "name": "ipython",
        "version": 3
      },
      "pygments_lexer": "ipython3",
      "nbconvert_exporter": "python",
      "file_extension": ".py"
    },
    "prev_pub_hash": "7d9d1a8cf107d8de93bd744aac98621a30bc325b172f4a898b5c882359be15d8",
    "colab": {
      "provenance": []
    }
  },
  "nbformat": 4,
  "nbformat_minor": 0
}