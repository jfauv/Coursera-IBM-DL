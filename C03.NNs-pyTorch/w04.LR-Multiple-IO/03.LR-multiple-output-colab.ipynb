{
  "cells": [
    {
      "cell_type": "markdown",
      "metadata": {
        "id": "64169817-064e-4ac9-8391-8063a4de900a"
      },
      "source": [
        "<h1>Multiple Linear Regression</h1>\n"
      ]
    },
    {
      "cell_type": "code",
      "metadata": {
        "colab": {
          "base_uri": "https://localhost:8080/"
        },
        "id": "0e38a08c-77d8-4a40-8582-cf6c7b945b81",
        "outputId": "b5b3748c-79dc-462d-8ee9-fd49dae55975"
      },
      "outputs": [
        {
          "output_type": "execute_result",
          "data": {
            "text/plain": [
              "<torch._C.Generator at 0x7cce182e8b90>"
            ]
          },
          "metadata": {},
          "execution_count": 1
        }
      ],
      "source": [
        "from torch import nn\n",
        "import torch\n",
        "torch.manual_seed(1)"
      ],
      "execution_count": 1
    },
    {
      "cell_type": "markdown",
      "metadata": {
        "id": "9d36caab-7c8a-4dcf-9a0d-a8ef31db55e7"
      },
      "source": [
        "<!--Empty Space for separating topics-->\n"
      ]
    },
    {
      "cell_type": "code",
      "metadata": {
        "id": "e88ed045-9724-4b31-88cf-b0bbd83a3472"
      },
      "outputs": [],
      "source": [
        "# Set the weight and bias\n",
        "w = torch.tensor([[2.0], [3.0]], requires_grad=True)\n",
        "b = torch.tensor([[1.0]], requires_grad=True)"
      ],
      "execution_count": 2
    },
    {
      "cell_type": "code",
      "metadata": {
        "id": "dd966715-dd3f-4403-94ae-163927d9df25"
      },
      "outputs": [],
      "source": [
        "# Define Prediction Function\n",
        "def forward(x):\n",
        "    yhat = torch.mm(x, w) + b\n",
        "    return yhat"
      ],
      "execution_count": 3
    },
    {
      "cell_type": "code",
      "metadata": {
        "colab": {
          "base_uri": "https://localhost:8080/"
        },
        "id": "7349c341-fa60-4b82-9c90-c557aff986e5",
        "outputId": "19e0356e-492d-4984-d309-5b721a8b9d43"
      },
      "outputs": [
        {
          "output_type": "stream",
          "name": "stdout",
          "text": [
            "The result:  tensor([[9.]], grad_fn=<AddBackward0>)\n"
          ]
        }
      ],
      "source": [
        "# Calculate yhat\n",
        "x = torch.tensor([[1.0, 2.0]])\n",
        "yhat = forward(x)\n",
        "print(\"The result: \", yhat)"
      ],
      "execution_count": 4
    },
    {
      "cell_type": "code",
      "metadata": {
        "id": "76eab590-ce35-429c-9f83-6520fbef81bf"
      },
      "outputs": [],
      "source": [
        "# Sample tensor X\n",
        "X = torch.tensor([[1.0, 1.0], [1.0, 2.0], [1.0, 3.0]])"
      ],
      "execution_count": 5
    },
    {
      "cell_type": "code",
      "metadata": {
        "colab": {
          "base_uri": "https://localhost:8080/"
        },
        "id": "00dd434e-89f2-4b86-88eb-d4064040660a",
        "outputId": "e018ed0e-decf-42e3-8870-1ae539993d8a"
      },
      "outputs": [
        {
          "output_type": "stream",
          "name": "stdout",
          "text": [
            "The result:  tensor([[ 6.],\n",
            "        [ 9.],\n",
            "        [12.]], grad_fn=<AddBackward0>)\n"
          ]
        }
      ],
      "source": [
        "# Make the prediction of X\n",
        "yhat = forward(X)\n",
        "print(\"The result: \", yhat)"
      ],
      "execution_count": 6
    },
    {
      "cell_type": "markdown",
      "metadata": {
        "id": "7397748b-e4bd-41ea-8053-cd28ea539a56"
      },
      "source": [
        "<!--Empty Space for separating topics-->\n"
      ]
    },
    {
      "cell_type": "markdown",
      "metadata": {
        "id": "67eca4f4-06bb-4865-9fb3-c7b5f9245996"
      },
      "source": [
        "## Class Linear\n"
      ]
    },
    {
      "cell_type": "markdown",
      "metadata": {
        "id": "54350dfb-fe64-4109-b88e-f800b7c45bd3"
      },
      "source": [
        "We can use the linear class to make a prediction. You'll also use the linear class to build more complex models.\n"
      ]
    },
    {
      "cell_type": "code",
      "metadata": {
        "id": "90fd71d2-9109-4d36-8075-b7eced9df978"
      },
      "outputs": [],
      "source": [
        "# Make a linear regression model using build-in function\n",
        "model = nn.Linear(2, 1)"
      ],
      "execution_count": 7
    },
    {
      "cell_type": "code",
      "metadata": {
        "colab": {
          "base_uri": "https://localhost:8080/"
        },
        "id": "372ece5c-f034-4e2e-83d1-101f4b22a6c5",
        "outputId": "19242074-aa85-4c7d-f1e7-57a261ca54df"
      },
      "outputs": [
        {
          "output_type": "stream",
          "name": "stdout",
          "text": [
            "The result:  tensor([[-0.3969]], grad_fn=<AddmmBackward0>)\n"
          ]
        }
      ],
      "source": [
        "# Make a prediction of x\n",
        "yhat = model(x)\n",
        "print(\"The result: \", yhat)"
      ],
      "execution_count": 8
    },
    {
      "cell_type": "code",
      "metadata": {
        "colab": {
          "base_uri": "https://localhost:8080/"
        },
        "id": "fc01949b-a473-46c4-8e1b-091e07af11dd",
        "outputId": "3b1a132b-baee-423d-d6be-753d792dffc0"
      },
      "outputs": [
        {
          "output_type": "stream",
          "name": "stdout",
          "text": [
            "The result:  tensor([[-0.0848],\n",
            "        [-0.3969],\n",
            "        [-0.7090]], grad_fn=<AddmmBackward0>)\n"
          ]
        }
      ],
      "source": [
        "# Make a prediction of X\n",
        "yhat = model(X)\n",
        "print(\"The result: \", yhat)"
      ],
      "execution_count": 9
    },
    {
      "cell_type": "markdown",
      "metadata": {
        "id": "7faacdc0-004b-4097-97ac-5ec7f3f4b521"
      },
      "source": [
        "## Build Custom Modules\n"
      ]
    },
    {
      "cell_type": "code",
      "metadata": {
        "id": "3cefedbc-13a7-409a-af6c-614e698b5289"
      },
      "outputs": [],
      "source": [
        "# Create linear_regression Class\n",
        "\n",
        "class linear_regression(nn.Module):\n",
        "\n",
        "    # Constructor\n",
        "    def __init__(self, input_size, output_size):\n",
        "        super(linear_regression, self).__init__()\n",
        "        self.linear = nn.Linear(input_size, output_size)\n",
        "\n",
        "    # Prediction function\n",
        "    def forward(self, x):\n",
        "        yhat = self.linear(x)\n",
        "        return yhat"
      ],
      "execution_count": 10
    },
    {
      "cell_type": "code",
      "metadata": {
        "id": "dc8f60ee-a303-433b-9d28-b1c7f7ca283f"
      },
      "outputs": [],
      "source": [
        "# Build a linear regression object. The input feature size is two\n",
        "model = linear_regression(2, 1)"
      ],
      "execution_count": 11
    },
    {
      "cell_type": "code",
      "metadata": {
        "colab": {
          "base_uri": "https://localhost:8080/"
        },
        "id": "6031d040-8f45-447a-b622-772e8056cf89",
        "outputId": "a7e53239-61e8-4dfd-ca8c-5eac0a3c7940"
      },
      "outputs": [
        {
          "output_type": "stream",
          "name": "stdout",
          "text": [
            "The parameters:  [Parameter containing:\n",
            "tensor([[ 0.3319, -0.6657]], requires_grad=True), Parameter containing:\n",
            "tensor([0.4241], requires_grad=True)]\n"
          ]
        }
      ],
      "source": [
        "# Print model parameters\n",
        "print(\"The parameters: \", list(model.parameters()))"
      ],
      "execution_count": 12
    },
    {
      "cell_type": "code",
      "metadata": {
        "colab": {
          "base_uri": "https://localhost:8080/"
        },
        "id": "90ec4463-66e4-41a0-b779-a32798ff317a",
        "outputId": "1bddbb3e-3a9b-4086-d6f0-da55ca6cc1e1"
      },
      "outputs": [
        {
          "output_type": "stream",
          "name": "stdout",
          "text": [
            "The parameters:  OrderedDict([('linear.weight', tensor([[ 0.3319, -0.6657]])), ('linear.bias', tensor([0.4241]))])\n"
          ]
        }
      ],
      "source": [
        "# Print model parameters\n",
        "print(\"The parameters: \", model.state_dict())"
      ],
      "execution_count": 13
    },
    {
      "cell_type": "code",
      "metadata": {
        "colab": {
          "base_uri": "https://localhost:8080/"
        },
        "id": "eaf8073c-4772-45b0-8a56-3d30d9ebb145",
        "outputId": "8f8ea7a0-d11c-4011-ca3a-46de59c9504e"
      },
      "outputs": [
        {
          "output_type": "stream",
          "name": "stdout",
          "text": [
            "The result:  tensor([[-0.5754]], grad_fn=<AddmmBackward0>)\n"
          ]
        }
      ],
      "source": [
        "# Make a prediction of x\n",
        "yhat = model(x)\n",
        "print(\"The result: \", yhat)"
      ],
      "execution_count": 14
    },
    {
      "cell_type": "code",
      "metadata": {
        "colab": {
          "base_uri": "https://localhost:8080/"
        },
        "id": "cff6f7ec-776c-422e-8df9-3b76e48963b4",
        "outputId": "d22f1607-4a63-4ec4-d12d-c44f9ec43e06"
      },
      "outputs": [
        {
          "output_type": "stream",
          "name": "stdout",
          "text": [
            "The result:  tensor([[ 0.0903],\n",
            "        [-0.5754],\n",
            "        [-1.2411]], grad_fn=<AddmmBackward0>)\n"
          ]
        }
      ],
      "source": [
        "# Make a prediction of X\n",
        "yhat = model(X)\n",
        "print(\"The result: \", yhat)"
      ],
      "execution_count": 15
    }
  ],
  "metadata": {
    "kernelspec": {
      "display_name": "Python",
      "language": "python",
      "name": "conda-env-python-py"
    },
    "language_info": {
      "name": "python",
      "version": "3.7.12",
      "mimetype": "text/x-python",
      "codemirror_mode": {
        "name": "ipython",
        "version": 3
      },
      "pygments_lexer": "ipython3",
      "nbconvert_exporter": "python",
      "file_extension": ".py"
    },
    "prev_pub_hash": "7d9d1a8cf107d8de93bd744aac98621a30bc325b172f4a898b5c882359be15d8",
    "colab": {
      "provenance": []
    }
  },
  "nbformat": 4,
  "nbformat_minor": 0
}