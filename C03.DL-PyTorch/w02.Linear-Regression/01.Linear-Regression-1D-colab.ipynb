{
  "cells": [
    {
      "cell_type": "markdown",
      "metadata": {
        "id": "f3c7db6f-3d8a-4d4f-87de-c9c1b99502c3"
      },
      "source": [
        "<h1>Linear Regression 1D: Prediction</h1>\n"
      ]
    },
    {
      "cell_type": "code",
      "metadata": {
        "id": "4e5d8fc1-a223-4f26-b593-91219a169c4f"
      },
      "outputs": [],
      "source": [
        "import torch"
      ],
      "execution_count": 1
    },
    {
      "cell_type": "markdown",
      "metadata": {
        "id": "4cc57dc8-e45f-4316-a0b9-3cd08d6a0e64"
      },
      "source": [
        "<h2 id=\"Prediction\">Prediction</h2>\n"
      ]
    },
    {
      "cell_type": "code",
      "metadata": {
        "id": "c447f058-d681-4eb6-bd76-40f231becb85"
      },
      "outputs": [],
      "source": [
        "# Define w = 2 and b = -1 for y = wx + b\n",
        "w = torch.tensor(2.0, requires_grad = True)\n",
        "b = torch.tensor(-1.0, requires_grad = True)"
      ],
      "execution_count": 2
    },
    {
      "cell_type": "markdown",
      "metadata": {
        "id": "c2fa46fd-4d26-47f6-b2a2-863d8830b4fc"
      },
      "source": [
        "Then, define the function <code>forward(x, w, b)</code> makes the prediction:\n"
      ]
    },
    {
      "cell_type": "code",
      "metadata": {
        "id": "50ee016f-c4f6-4a09-b423-9d28bdf30f20"
      },
      "outputs": [],
      "source": [
        "# Function forward(x) for prediction\n",
        "def forward(x):\n",
        "    yhat = w * x + b\n",
        "    return yhat"
      ],
      "execution_count": 3
    },
    {
      "cell_type": "code",
      "metadata": {
        "colab": {
          "base_uri": "https://localhost:8080/"
        },
        "id": "2e8010c9-f0d6-4878-82ee-a5b9b355d215",
        "outputId": "0cb946e0-9c18-4a3e-fe57-11f950a7ccb6"
      },
      "outputs": [
        {
          "output_type": "stream",
          "name": "stdout",
          "text": [
            "The prediction:  tensor([[1.]], grad_fn=<AddBackward0>)\n"
          ]
        }
      ],
      "source": [
        "# Predict y = 2x - 1 at x = 1\n",
        "x = torch.tensor([[1.0]])\n",
        "yhat = forward(x)\n",
        "print(\"The prediction: \", yhat)"
      ],
      "execution_count": 4
    },
    {
      "cell_type": "markdown",
      "metadata": {
        "id": "0a618478-eeac-420c-bdc1-419d883717de"
      },
      "source": [
        "Now, let us try to make the prediction for multiple inputs:\n"
      ]
    },
    {
      "cell_type": "code",
      "metadata": {
        "colab": {
          "base_uri": "https://localhost:8080/"
        },
        "id": "75f60929-7446-464b-be2a-aa43b366804e",
        "outputId": "8e30aeb1-68ef-40b5-8bda-f89bae8bd1a1"
      },
      "outputs": [
        {
          "output_type": "stream",
          "name": "stdout",
          "text": [
            "The shape of x:  torch.Size([2, 1])\n"
          ]
        }
      ],
      "source": [
        "# Create x Tensor and check the shape of x tensor\n",
        "x = torch.tensor([[1.0], [2.0]])\n",
        "print(\"The shape of x: \", x.shape)"
      ],
      "execution_count": 5
    },
    {
      "cell_type": "markdown",
      "metadata": {
        "id": "ae1abb30-d6ac-4202-ac74-b6100a360ed3"
      },
      "source": [
        "Now make the prediction:\n"
      ]
    },
    {
      "cell_type": "code",
      "metadata": {
        "colab": {
          "base_uri": "https://localhost:8080/"
        },
        "id": "2ca47dac-463b-4c4e-bd8d-67e8c844599c",
        "outputId": "61206eb4-59bd-41e5-c548-46533dec9d0d"
      },
      "outputs": [
        {
          "output_type": "stream",
          "name": "stdout",
          "text": [
            "The prediction:  tensor([[1.],\n",
            "        [3.]], grad_fn=<AddBackward0>)\n"
          ]
        }
      ],
      "source": [
        "# Make the prediction of y = 2x - 1 at x = [1, 2]\n",
        "yhat = forward(x)\n",
        "print(\"The prediction: \", yhat)"
      ],
      "execution_count": 6
    },
    {
      "cell_type": "markdown",
      "metadata": {
        "id": "adf51672-c8fc-4170-8adf-ab121c208465"
      },
      "source": [
        "<h2 id=\"Linear\">Class Linear</h2>\n"
      ]
    },
    {
      "cell_type": "markdown",
      "metadata": {
        "id": "5fc07bf3-f1cd-4cf6-940f-6702e1c4e3cc"
      },
      "source": [
        "The linear class can be used to make a prediction. We can also use the linear class to build more complex models. Let's import the module:\n"
      ]
    },
    {
      "cell_type": "code",
      "metadata": {
        "id": "6e6d931c-144b-4b12-90ef-552ede8cf7f4"
      },
      "outputs": [],
      "source": [
        "# Import Class Linear\n",
        "from torch.nn import Linear"
      ],
      "execution_count": 7
    },
    {
      "cell_type": "code",
      "metadata": {
        "colab": {
          "base_uri": "https://localhost:8080/"
        },
        "id": "9163949f-d729-4b30-bb4f-e258b7633a66",
        "outputId": "6833073b-fbf1-411d-de4e-565771c3e098"
      },
      "outputs": [
        {
          "output_type": "execute_result",
          "data": {
            "text/plain": [
              "<torch._C.Generator at 0x7bf415299b30>"
            ]
          },
          "metadata": {},
          "execution_count": 8
        }
      ],
      "source": [
        "# Set random seed\n",
        "torch.manual_seed(1)"
      ],
      "execution_count": 8
    },
    {
      "cell_type": "code",
      "metadata": {
        "colab": {
          "base_uri": "https://localhost:8080/"
        },
        "id": "03dae204-dba5-417d-8b02-50d9bafdbe91",
        "outputId": "d8dfb055-fa4f-45f7-ca6d-16d4ffeb7e05"
      },
      "outputs": [
        {
          "output_type": "stream",
          "name": "stdout",
          "text": [
            "Parameters w and b:  [Parameter containing:\n",
            "tensor([[0.5153]], requires_grad=True), Parameter containing:\n",
            "tensor([-0.4414], requires_grad=True)]\n"
          ]
        }
      ],
      "source": [
        "# Create Linear Regression Model, and print out the parameters\n",
        "lr = Linear(in_features=1, out_features=1, bias=True)\n",
        "print(\"Parameters w and b: \", list(lr.parameters()))\n"
      ],
      "execution_count": 9
    },
    {
      "cell_type": "markdown",
      "metadata": {
        "id": "a0e43fa6-ca47-4de5-a976-e89c19f8b9ab"
      },
      "source": [
        "$b=-0.44, w=0.5153$\n",
        "\n",
        "$\\hat{y}=-0.44+0.5153x$\n"
      ]
    },
    {
      "cell_type": "markdown",
      "metadata": {
        "id": "c902ead1-6871-4947-90dc-e8fd5e2b0e74"
      },
      "source": [
        "A method  <code>state_dict()</code> Returns a Python dictionary object corresponding to the layers of each parameter  tensor.\n"
      ]
    },
    {
      "cell_type": "code",
      "metadata": {
        "colab": {
          "base_uri": "https://localhost:8080/"
        },
        "id": "63c33118-64a4-45f4-b4c7-7384ac16318c",
        "outputId": "e4eec27b-4984-42aa-967f-07eab83c0a0e"
      },
      "outputs": [
        {
          "output_type": "stream",
          "name": "stdout",
          "text": [
            "Python dictionary:  OrderedDict([('weight', tensor([[0.5153]])), ('bias', tensor([-0.4414]))])\n",
            "keys:  odict_keys(['weight', 'bias'])\n",
            "values:  odict_values([tensor([[0.5153]]), tensor([-0.4414])])\n"
          ]
        }
      ],
      "source": [
        "print(\"Python dictionary: \",lr.state_dict())\n",
        "print(\"keys: \",lr.state_dict().keys())\n",
        "print(\"values: \",lr.state_dict().values())"
      ],
      "execution_count": 10
    },
    {
      "cell_type": "code",
      "metadata": {
        "colab": {
          "base_uri": "https://localhost:8080/"
        },
        "id": "b532915b-7989-431b-bc50-9621c47eec34",
        "outputId": "7d038487-cdae-472d-b401-c080da3e0bbf"
      },
      "outputs": [
        {
          "output_type": "stream",
          "name": "stdout",
          "text": [
            "weight: Parameter containing:\n",
            "tensor([[0.5153]], requires_grad=True)\n",
            "bias: Parameter containing:\n",
            "tensor([-0.4414], requires_grad=True)\n"
          ]
        }
      ],
      "source": [
        "print(\"weight:\",lr.weight)\n",
        "print(\"bias:\",lr.bias)"
      ],
      "execution_count": 11
    },
    {
      "cell_type": "code",
      "metadata": {
        "colab": {
          "base_uri": "https://localhost:8080/"
        },
        "id": "21d33a74-65c3-4528-a87c-f8cd7fc000d4",
        "outputId": "07138cb9-dfea-465c-d7af-83c38a41cb09"
      },
      "outputs": [
        {
          "output_type": "stream",
          "name": "stdout",
          "text": [
            "The prediction:  tensor([[0.0739]], grad_fn=<AddmmBackward0>)\n"
          ]
        }
      ],
      "source": [
        "# Make the prediction at x = [[1.0]]\n",
        "x = torch.tensor([[1.0]])\n",
        "yhat = lr(x)\n",
        "print(\"The prediction: \", yhat)"
      ],
      "execution_count": 12
    },
    {
      "cell_type": "markdown",
      "metadata": {
        "id": "30169341-ea0d-411f-a377-506af48e90cb"
      },
      "source": [
        "Use model <code>lr(x)</code> to predict the result.\n"
      ]
    },
    {
      "cell_type": "code",
      "metadata": {
        "colab": {
          "base_uri": "https://localhost:8080/"
        },
        "id": "338ae3bc-a3b1-458b-bd5e-add0bab4936a",
        "outputId": "79ece055-3030-45cd-a52b-ae0a9da1aef6"
      },
      "outputs": [
        {
          "output_type": "stream",
          "name": "stdout",
          "text": [
            "The prediction:  tensor([[0.0739],\n",
            "        [0.5891]], grad_fn=<AddmmBackward0>)\n"
          ]
        }
      ],
      "source": [
        "# Create the prediction using linear model\n",
        "x = torch.tensor([[1.0], [2.0]])\n",
        "yhat = lr(x)\n",
        "print(\"The prediction: \", yhat)"
      ],
      "execution_count": 13
    },
    {
      "cell_type": "markdown",
      "metadata": {
        "id": "c1f69f38-30dc-40a6-af4f-4a6ba852d3a2"
      },
      "source": [
        "<h2 id=\"Cust\">Build Custom Modules</h2>\n"
      ]
    },
    {
      "cell_type": "code",
      "metadata": {
        "id": "9de60509-328b-460f-9fc3-e43e5e5799fa"
      },
      "outputs": [],
      "source": [
        "# Library for this section\n",
        "from torch import nn"
      ],
      "execution_count": 14
    },
    {
      "cell_type": "code",
      "metadata": {
        "id": "6eb348e4-dc41-4a73-bc1f-9513bf89f3bf"
      },
      "outputs": [],
      "source": [
        "# Customize Linear Regression Class\n",
        "\n",
        "class LR(nn.Module):\n",
        "\n",
        "    # Constructor\n",
        "    def __init__(self, input_size, output_size):\n",
        "\n",
        "        # Inherit from parent\n",
        "        super(LR, self).__init__()\n",
        "        self.linear = nn.Linear(input_size, output_size)\n",
        "\n",
        "    # Prediction function\n",
        "    def forward(self, x):\n",
        "        out = self.linear(x)\n",
        "        return out"
      ],
      "execution_count": 15
    },
    {
      "cell_type": "code",
      "metadata": {
        "colab": {
          "base_uri": "https://localhost:8080/"
        },
        "id": "4f743576-63fb-4cfb-b71b-eaa26c52360d",
        "outputId": "bd71149d-25f1-4622-eb47-afec32420e10"
      },
      "outputs": [
        {
          "output_type": "stream",
          "name": "stdout",
          "text": [
            "The parameters:  [Parameter containing:\n",
            "tensor([[-0.1939]], requires_grad=True), Parameter containing:\n",
            "tensor([0.4694], requires_grad=True)]\n",
            "Linear model:  Linear(in_features=1, out_features=1, bias=True)\n"
          ]
        }
      ],
      "source": [
        "# Create the linear regression model. Print out the parameters.\n",
        "lr = LR(1, 1)\n",
        "print(\"The parameters: \", list(lr.parameters()))\n",
        "print(\"Linear model: \", lr.linear)"
      ],
      "execution_count": 16
    },
    {
      "cell_type": "code",
      "metadata": {
        "colab": {
          "base_uri": "https://localhost:8080/"
        },
        "id": "408645de-c437-4753-a720-66cef2b9b44b",
        "outputId": "b4be4de5-59ba-42f4-9fa6-96ff728deff5"
      },
      "outputs": [
        {
          "output_type": "stream",
          "name": "stdout",
          "text": [
            "The prediction:  tensor([[0.2755]], grad_fn=<AddmmBackward0>)\n"
          ]
        }
      ],
      "source": [
        "# Try our customize linear regression model with single input\n",
        "x = torch.tensor([[1.0]])\n",
        "yhat = lr(x)\n",
        "print(\"The prediction: \", yhat)"
      ],
      "execution_count": 17
    },
    {
      "cell_type": "code",
      "metadata": {
        "colab": {
          "base_uri": "https://localhost:8080/"
        },
        "id": "cdbf4ab8-95cc-46b5-b398-3fcdd27d2b46",
        "outputId": "bfee5b41-412e-4b1d-c256-82408b72b8a9"
      },
      "outputs": [
        {
          "output_type": "stream",
          "name": "stdout",
          "text": [
            "The prediction:  tensor([[0.2755],\n",
            "        [0.0816]], grad_fn=<AddmmBackward0>)\n"
          ]
        }
      ],
      "source": [
        "# Try our customize linear regression model with multiple input\n",
        "x = torch.tensor([[1.0], [2.0]])\n",
        "yhat = lr(x)\n",
        "print(\"The prediction: \", yhat)"
      ],
      "execution_count": 18
    },
    {
      "cell_type": "markdown",
      "metadata": {
        "id": "7797ee36-2b73-453f-a9f7-646a8976cfbd"
      },
      "source": [
        "the parameters are also stored in an ordered dictionary :\n"
      ]
    },
    {
      "cell_type": "code",
      "metadata": {
        "colab": {
          "base_uri": "https://localhost:8080/"
        },
        "id": "ab1063f3-fc77-4076-b772-01333ee992f0",
        "outputId": "987ca930-31e3-48e2-d719-5ec0978120b7"
      },
      "outputs": [
        {
          "output_type": "stream",
          "name": "stdout",
          "text": [
            "Python dictionary:  OrderedDict([('linear.weight', tensor([[-0.1939]])), ('linear.bias', tensor([0.4694]))])\n",
            "keys:  odict_keys(['linear.weight', 'linear.bias'])\n",
            "values:  odict_values([tensor([[-0.1939]]), tensor([0.4694])])\n"
          ]
        }
      ],
      "source": [
        "print(\"Python dictionary: \", lr.state_dict())\n",
        "print(\"keys: \",lr.state_dict().keys())\n",
        "print(\"values: \",lr.state_dict().values())\n"
      ],
      "execution_count": 19
    }
  ],
  "metadata": {
    "kernelspec": {
      "display_name": "Python",
      "language": "python",
      "name": "conda-env-python-py"
    },
    "language_info": {
      "name": "python",
      "version": "3.7.12",
      "mimetype": "text/x-python",
      "codemirror_mode": {
        "name": "ipython",
        "version": 3
      },
      "pygments_lexer": "ipython3",
      "nbconvert_exporter": "python",
      "file_extension": ".py"
    },
    "prev_pub_hash": "eb40c9132f5fb6974a287b8637f688ed48ef4a70d44648afa06d9cbdfb1d80b2",
    "colab": {
      "provenance": []
    }
  },
  "nbformat": 4,
  "nbformat_minor": 0
}