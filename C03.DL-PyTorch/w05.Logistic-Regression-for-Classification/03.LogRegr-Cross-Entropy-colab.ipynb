{
  "cells": [
    {
      "cell_type": "markdown",
      "metadata": {
        "id": "064cd15e-7815-4c2a-a627-e983e32f284b"
      },
      "source": [
        "<h1>Logistic Regression Cross Entropy</h1>\n"
      ]
    },
    {
      "cell_type": "markdown",
      "metadata": {
        "id": "5a2f4e36-12cf-4a62-b6aa-003761148fe4"
      },
      "source": [
        "<h2>Objective</h2><ul><li> How Cross-Entropy using random initialization influence the accuracy of the model.</li></ul>\n"
      ]
    },
    {
      "cell_type": "code",
      "metadata": {
        "id": "67e1d600-1c93-4969-bfff-9d9c1bbd66a9"
      },
      "outputs": [],
      "source": [
        "import numpy as np\n",
        "import matplotlib.pyplot as plt\n",
        "from mpl_toolkits import mplot3d\n",
        "import torch\n",
        "from torch.utils.data import Dataset, DataLoader\n",
        "import torch.nn as nn"
      ],
      "execution_count": 1
    },
    {
      "cell_type": "code",
      "metadata": {
        "colab": {
          "base_uri": "https://localhost:8080/"
        },
        "id": "32a4b9e1-83ba-4f2e-90ec-56d43a0846dc",
        "outputId": "6ab31ebd-0042-4e96-b801-89fb3745cbe5"
      },
      "outputs": [
        {
          "output_type": "execute_result",
          "data": {
            "text/plain": [
              "<torch._C.Generator at 0x7879fbff0bf0>"
            ]
          },
          "metadata": {},
          "execution_count": 2
        }
      ],
      "source": [
        "# Set random seed\n",
        "torch.manual_seed(0)"
      ],
      "execution_count": 2
    },
    {
      "cell_type": "markdown",
      "metadata": {
        "id": "db9e6246-c0c8-48b5-bd14-7c7379319e25"
      },
      "source": [
        "<!--Empty Space for separating topics-->\n"
      ]
    },
    {
      "cell_type": "markdown",
      "metadata": {
        "id": "6142a4f1-2292-457c-be50-2760365d1938"
      },
      "source": [
        "<h2 id=\"Get-Some-Data\">Get Some Data</h2>\n"
      ]
    },
    {
      "cell_type": "code",
      "metadata": {
        "id": "6423c54d-b848-44af-9f8c-230b81633f57"
      },
      "outputs": [],
      "source": [
        "# Create the data class\n",
        "\n",
        "class Data(Dataset):\n",
        "\n",
        "    # Constructor\n",
        "    def __init__(self):\n",
        "        self.x = torch.arange(-1, 1, 0.1).view(-1, 1)\n",
        "        self.y = torch.zeros(self.x.shape[0], 1)\n",
        "        self.y[self.x[:, 0] > 0.2] = 1\n",
        "        self.len = self.x.shape[0]\n",
        "\n",
        "    # Getter\n",
        "    def __getitem__(self, index):\n",
        "        return self.x[index], self.y[index]\n",
        "\n",
        "    # Get length\n",
        "    def __len__(self):\n",
        "        return self.len"
      ],
      "execution_count": 3
    },
    {
      "cell_type": "code",
      "metadata": {
        "id": "3560c22a-1d2e-40b8-8a8e-3cced5d158af"
      },
      "outputs": [],
      "source": [
        "# Create Data object\n",
        "data_set = Data()"
      ],
      "execution_count": 4
    },
    {
      "cell_type": "markdown",
      "metadata": {
        "id": "f18be039-9519-4d3b-a9f2-83afd0602201"
      },
      "source": [
        "<!--Empty Space for separating topics-->\n"
      ]
    },
    {
      "cell_type": "markdown",
      "metadata": {
        "id": "8a3f4c87-e398-46ef-b82b-b34b3f73380c"
      },
      "source": [
        "<h2 id=\"Create-the-Model-and-Total-Loss-Function\">Create the Model and Total Loss Function</h2>\n"
      ]
    },
    {
      "cell_type": "code",
      "metadata": {
        "id": "e368fd2f-146f-41d9-ab82-eed10d7313fa"
      },
      "outputs": [],
      "source": [
        "# Create logistic_regression class\n",
        "\n",
        "class logistic_regression(nn.Module):\n",
        "\n",
        "    # Constructor\n",
        "    def __init__(self, n_inputs):\n",
        "        super(logistic_regression, self).__init__()\n",
        "        self.linear = nn.Linear(n_inputs, 1)\n",
        "\n",
        "    # Prediction\n",
        "    def forward(self, x):\n",
        "        yhat = torch.sigmoid(self.linear(x))\n",
        "        return yhat"
      ],
      "execution_count": 5
    },
    {
      "cell_type": "code",
      "metadata": {
        "id": "550409b6-fbe3-460d-a7c0-caf9b78316c2"
      },
      "outputs": [],
      "source": [
        "# Create the logistic_regression result\n",
        "model = logistic_regression(1)"
      ],
      "execution_count": 6
    },
    {
      "cell_type": "markdown",
      "metadata": {
        "id": "b78fd94d-acf6-4b6d-ae97-cc1503b6f0cd"
      },
      "source": [
        "Replace the random initialized variable values. Theses random initialized variable values did convergence for the RMS Loss but will converge for the Cross-Entropy Loss.\n"
      ]
    },
    {
      "cell_type": "code",
      "metadata": {
        "colab": {
          "base_uri": "https://localhost:8080/"
        },
        "id": "32b3683f-bbc8-427a-903a-ca41f59bc979",
        "outputId": "a502e97f-82ce-492f-f2e4-bef6217ac9c3"
      },
      "outputs": [
        {
          "output_type": "stream",
          "name": "stdout",
          "text": [
            "The parameters:  OrderedDict([('linear.weight', tensor([[-5.]])), ('linear.bias', tensor([-10.]))])\n"
          ]
        }
      ],
      "source": [
        "# Set the weight and bias\n",
        "model.state_dict() ['linear.weight'].data[0] = torch.tensor([[-5]])\n",
        "model.state_dict() ['linear.bias'].data[0] = torch.tensor([[-10]])\n",
        "print(\"The parameters: \", model.state_dict())"
      ],
      "execution_count": 7
    },
    {
      "cell_type": "markdown",
      "metadata": {
        "id": "a5c9017b-0613-473c-92b1-f94a83aa7d3b"
      },
      "source": [
        "Define the cost or criterion function:\n"
      ]
    },
    {
      "cell_type": "code",
      "metadata": {
        "id": "c7a38393-a855-4db1-829d-893054933ae6"
      },
      "outputs": [],
      "source": [
        "# Create dataloader, criterion function and optimizer\n",
        "\n",
        "def criterion(yhat,y):\n",
        "    out = -1 * torch.mean(y * torch.log(yhat) + (1 - y) * torch.log(1 - yhat))\n",
        "    return out\n",
        "\n",
        "# Build in criterion\n",
        "# criterion = nn.BCELoss()\n",
        "\n",
        "trainloader = DataLoader(dataset = data_set, batch_size = 3)\n",
        "learning_rate = 2\n",
        "optimizer = torch.optim.SGD(model.parameters(), lr = learning_rate)"
      ],
      "execution_count": 8
    },
    {
      "cell_type": "markdown",
      "metadata": {
        "id": "0265cc85-1331-400d-8b57-683227bc766a"
      },
      "source": [
        "<!--Empty Space for separating topics-->\n"
      ]
    },
    {
      "cell_type": "markdown",
      "metadata": {
        "id": "6645a587-d891-4cda-a82a-e2b188e22d3b"
      },
      "source": [
        "<h2 id=\"Train-the-Model-via-Batch-Gradient-Descent\">Train the Model via Batch Gradient Descent</h2>\n"
      ]
    },
    {
      "cell_type": "code",
      "metadata": {
        "id": "e362a509-1320-402e-8156-aed6d4f9c519"
      },
      "outputs": [],
      "source": [
        "# Train the Model\n",
        "\n",
        "def train_model(epochs):\n",
        "    for epoch in range(epochs):\n",
        "        for x, y in trainloader:\n",
        "            yhat = model(x)\n",
        "            loss = criterion(yhat, y)\n",
        "            optimizer.zero_grad()\n",
        "            loss.backward()\n",
        "            optimizer.step()\n",
        "\n",
        "train_model(100)"
      ],
      "execution_count": 9
    },
    {
      "cell_type": "markdown",
      "metadata": {
        "id": "df5717e8-f086-404f-9842-c079c46d5a8b"
      },
      "source": [
        "Get the actual class of each sample and calculate the accuracy on the test data:\n"
      ]
    },
    {
      "cell_type": "code",
      "metadata": {
        "colab": {
          "base_uri": "https://localhost:8080/"
        },
        "id": "8f882625-706b-4619-a95d-d48635939ea7",
        "outputId": "0d886879-4726-40a1-ca39-dac3d870342f"
      },
      "outputs": [
        {
          "output_type": "stream",
          "name": "stdout",
          "text": [
            "The accuracy:  tensor(1.)\n"
          ]
        }
      ],
      "source": [
        "# Make the Prediction\n",
        "yhat = model(data_set.x)\n",
        "label = yhat > 0.5\n",
        "print(\"The accuracy: \", torch.mean((label == data_set.y.type(torch.ByteTensor)).type(torch.float)))"
      ],
      "execution_count": 10
    },
    {
      "cell_type": "markdown",
      "metadata": {
        "id": "7343fc07-d19c-44c0-b421-20dbe53eef3a"
      },
      "source": [
        "The accuracy is perfect.\n"
      ]
    }
  ],
  "metadata": {
    "kernelspec": {
      "display_name": "Python",
      "language": "python",
      "name": "conda-env-python-py"
    },
    "language_info": {
      "codemirror_mode": {
        "name": "ipython",
        "version": 3
      },
      "file_extension": ".py",
      "mimetype": "text/x-python",
      "name": "python",
      "nbconvert_exporter": "python",
      "pygments_lexer": "ipython3",
      "version": "3.7.12"
    },
    "prev_pub_hash": "9cb30d192c305889e168f212650d884f0fc293b443c4d228123bed48d6f36984",
    "colab": {
      "provenance": []
    }
  },
  "nbformat": 4,
  "nbformat_minor": 0
}