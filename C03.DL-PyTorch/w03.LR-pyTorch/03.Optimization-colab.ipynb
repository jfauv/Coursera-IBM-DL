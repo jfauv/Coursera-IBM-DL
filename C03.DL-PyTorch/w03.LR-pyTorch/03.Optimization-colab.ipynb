{
  "cells": [
    {
      "cell_type": "markdown",
      "metadata": {
        "id": "154aedf4-ea26-4704-bb0f-85d925cda22e"
      },
      "source": [
        "<h1>Linear Regression 1D: Training Two Parameter Mini-Batch Gradient Descent </h1>\n"
      ]
    },
    {
      "cell_type": "markdown",
      "metadata": {
        "id": "967fb8f6-afa4-462b-8abd-279a253625f8"
      },
      "source": [
        "<h2>Table of Contents</h2>\n",
        "<p>In this lab, you will create a model the PyTroch way, this will help you as models get more complicated</p>\n",
        "\n",
        "<ul>\n",
        "    <li><a href=\"#Make-Some-Data\">Make Some Data </a></li>\n",
        "    <li><a href=\"#Create-the-Model-and-Total-Loss-Function-(Cost)\">Create the Model and Total Loss Function (Cost) </a></li>\n",
        "    <li><a href=\"#Train-the-Model:-Batch-Gradient-Descent\">Train the Model: Batch Gradient Descent</a></li>\n",
        "</ul>\n",
        "\n",
        "<p>Estimated Time Needed: <strong>30 min</strong></p>\n",
        "\n",
        "<hr>\n"
      ]
    },
    {
      "cell_type": "markdown",
      "metadata": {
        "id": "0790a98d-8bac-4751-8b47-5a0a3df623f0"
      },
      "source": [
        "<h2>Preparation</h2>\n"
      ]
    },
    {
      "cell_type": "code",
      "metadata": {
        "id": "4d574591-0c95-481b-b2cd-10aa98fa22ee"
      },
      "outputs": [],
      "source": [
        "import numpy as np\n",
        "import matplotlib.pyplot as plt\n",
        "from mpl_toolkits import mplot3d"
      ],
      "execution_count": 1
    },
    {
      "cell_type": "markdown",
      "metadata": {
        "id": "e9d5959e-cb1b-454a-bf06-3db1db5ab07b"
      },
      "source": [
        "<!-- <h2 id=\"Makeup_Data\">Make Some Data</h2>\n",
        " -->\n",
        " ## Make Some Data\n"
      ]
    },
    {
      "cell_type": "code",
      "metadata": {
        "colab": {
          "base_uri": "https://localhost:8080/"
        },
        "id": "ae65454f-f95f-4a3f-a7cb-854a3eff81fc",
        "outputId": "be0bfca2-75d6-4b19-f993-17f080d78f62"
      },
      "outputs": [
        {
          "output_type": "execute_result",
          "data": {
            "text/plain": [
              "<torch._C.Generator at 0x7a5231599c30>"
            ]
          },
          "metadata": {},
          "execution_count": 2
        }
      ],
      "source": [
        "import torch\n",
        "from torch.utils.data import Dataset, DataLoader\n",
        "torch.manual_seed(1)"
      ],
      "execution_count": 2
    },
    {
      "cell_type": "code",
      "metadata": {
        "id": "c5c2664e-0d79-4b54-a9dd-0c6fa0dae3d9"
      },
      "outputs": [],
      "source": [
        "# Create Data Class\n",
        "\n",
        "class Data(Dataset):\n",
        "\n",
        "    # Constructor\n",
        "    def __init__(self):\n",
        "        self.x = torch.arange(-3, 3, 0.1).view(-1, 1)\n",
        "        self.f = 1 * self.x - 1\n",
        "        self.y = self.f + 0.1 * torch.randn(self.x.size())\n",
        "        self.len = self.x.shape[0]\n",
        "\n",
        "    # Getter\n",
        "    def __getitem__(self,index):\n",
        "        return self.x[index],self.y[index]\n",
        "\n",
        "    # Get Length\n",
        "    def __len__(self):\n",
        "        return self.len"
      ],
      "execution_count": 3
    },
    {
      "cell_type": "code",
      "metadata": {
        "id": "bbdede8a-d7cc-4717-9e02-0ed9c8c4b6e6"
      },
      "outputs": [],
      "source": [
        "# Create dataset object\n",
        "dataset = Data()"
      ],
      "execution_count": 4
    },
    {
      "cell_type": "markdown",
      "metadata": {
        "id": "8748921b-2586-42ad-856d-9ff6c6feea67"
      },
      "source": [
        "<!-- <h2 id=\"Model_Cost\">Create the Model and Total Loss Function (Cost)</h2>\n",
        " -->\n",
        "## Create the Model and Total Loss Function (Cost)\n"
      ]
    },
    {
      "cell_type": "code",
      "metadata": {
        "id": "685c90fc-ba83-4b8a-a10f-de198acf31ce"
      },
      "outputs": [],
      "source": [
        "# Create a linear regression model class\n",
        "\n",
        "from torch import nn, optim\n",
        "\n",
        "class linear_regression(nn.Module):\n",
        "\n",
        "    # Constructor\n",
        "    def __init__(self, input_size, output_size):\n",
        "        super(linear_regression, self).__init__()\n",
        "        self.linear = nn.Linear(input_size, output_size)\n",
        "\n",
        "    # Prediction\n",
        "    def forward(self, x):\n",
        "        yhat = self.linear(x)\n",
        "        return yhat"
      ],
      "execution_count": 5
    },
    {
      "cell_type": "code",
      "metadata": {
        "id": "42f63df9-94eb-4bf8-828c-806a5161992a"
      },
      "outputs": [],
      "source": [
        "# Build in cost function\n",
        "criterion = nn.MSELoss()"
      ],
      "execution_count": 6
    },
    {
      "cell_type": "code",
      "metadata": {
        "id": "625d1e49-b5fe-4221-938b-829926cbf772"
      },
      "outputs": [],
      "source": [
        "# Create optimizer\n",
        "model = linear_regression(1,1)\n",
        "optimizer = optim.SGD(model.parameters(), lr = 0.01)"
      ],
      "execution_count": 7
    },
    {
      "cell_type": "code",
      "metadata": {
        "colab": {
          "base_uri": "https://localhost:8080/"
        },
        "id": "7b992225-e296-4d7d-91c2-95992473f364",
        "outputId": "d0813457-9b4c-4b45-aa37-d37d075aa47a"
      },
      "outputs": [
        {
          "output_type": "execute_result",
          "data": {
            "text/plain": [
              "[Parameter containing:\n",
              " tensor([[0.3636]], requires_grad=True),\n",
              " Parameter containing:\n",
              " tensor([0.4957], requires_grad=True)]"
            ]
          },
          "metadata": {},
          "execution_count": 8
        }
      ],
      "source": [
        "list(model.parameters())"
      ],
      "execution_count": 8
    },
    {
      "cell_type": "markdown",
      "metadata": {
        "id": "227eda8a-ea1b-4ed3-87ee-04f62b77d727"
      },
      "source": [
        "Remember to construct an optimizer you have to give it an iterable containing the parameters i.e. provide <code> model.parameters()</code> as an input to the object constructor\n"
      ]
    },
    {
      "cell_type": "markdown",
      "metadata": {
        "id": "dbaeae3f-edd0-448b-a71b-93d9782dbef8"
      },
      "source": [
        "<img src=\"https://s3-api.us-geo.objectstorage.softlayer.net/cf-courses-data/CognitiveClass/DL0110EN/notebook_images%20/chapter2/2.4model_optmiz.png\" width=\"100\" alt=\"Model Optimizer\">\n"
      ]
    },
    {
      "cell_type": "markdown",
      "metadata": {
        "id": "07badf75-888d-48a3-abd6-754effa685f8"
      },
      "source": [
        "Similar to the model, the optimizer has a state dictionary:\n"
      ]
    },
    {
      "cell_type": "code",
      "metadata": {
        "colab": {
          "base_uri": "https://localhost:8080/"
        },
        "id": "60124333-4601-4f52-9c2b-0bafd12b0e45",
        "outputId": "44b17814-7694-400d-b3f8-220e3516187b"
      },
      "outputs": [
        {
          "output_type": "execute_result",
          "data": {
            "text/plain": [
              "{'state': {},\n",
              " 'param_groups': [{'lr': 0.01,\n",
              "   'momentum': 0,\n",
              "   'dampening': 0,\n",
              "   'weight_decay': 0,\n",
              "   'nesterov': False,\n",
              "   'maximize': False,\n",
              "   'foreach': None,\n",
              "   'differentiable': False,\n",
              "   'fused': None,\n",
              "   'params': [0, 1]}]}"
            ]
          },
          "metadata": {},
          "execution_count": 9
        }
      ],
      "source": [
        "optimizer.state_dict()"
      ],
      "execution_count": 9
    },
    {
      "cell_type": "code",
      "metadata": {
        "id": "50c2eb2e-362c-499e-b1d0-7cea88b88b42"
      },
      "outputs": [],
      "source": [
        "# Create Dataloader object\n",
        "trainloader = DataLoader(dataset = dataset, batch_size = 1)"
      ],
      "execution_count": 10
    },
    {
      "cell_type": "markdown",
      "metadata": {
        "id": "7889cd43-c88c-4849-b117-d0fbf84b9e31"
      },
      "source": [
        "PyTorch randomly initialises your model parameters. If we use those parameters, the result will not be very insightful as convergence will be extremely fast. So we will initialise the parameters such that they will take longer to converge, i.e. look cool  \n"
      ]
    },
    {
      "cell_type": "code",
      "metadata": {
        "id": "3d559369-6b40-4850-8f81-3d0506e3fb1c"
      },
      "outputs": [],
      "source": [
        "# Customize the weight and bias\n",
        "model.state_dict()['linear.weight'][0] = -15\n",
        "model.state_dict()['linear.bias'][0] = -10"
      ],
      "execution_count": 11
    },
    {
      "cell_type": "markdown",
      "metadata": {
        "id": "93fef055-074a-482d-9ba2-b0302eca6d32"
      },
      "source": [
        "<!-- <h2 id=\"BGD\">Train the Model via Batch Gradient Descent</h2>\n",
        " -->\n",
        " ## Train the Model: Batch Gradient Descent\n"
      ]
    },
    {
      "cell_type": "code",
      "metadata": {
        "id": "b41d89ca-4ee1-4979-9cd4-67c25455615a"
      },
      "outputs": [],
      "source": [
        "# Train Model\n",
        "\n",
        "def train_model_BGD(iter):\n",
        "    for epoch in range(iter):\n",
        "        for x,y in trainloader:\n",
        "            yhat = model(x)\n",
        "            loss = criterion(yhat, y)\n",
        "            optimizer.zero_grad()\n",
        "            loss.backward()\n",
        "\n",
        "            optimizer.step()\n",
        "\n",
        "train_model_BGD(10)"
      ],
      "execution_count": 14
    },
    {
      "cell_type": "code",
      "metadata": {
        "colab": {
          "base_uri": "https://localhost:8080/"
        },
        "id": "c5e48c8c-88bd-4f48-8f47-3c1008d62b03",
        "outputId": "4ae048df-818d-4a5d-f60d-0eebc7da62e9"
      },
      "outputs": [
        {
          "output_type": "execute_result",
          "data": {
            "text/plain": [
              "OrderedDict([('linear.weight', tensor([[0.9932]])),\n",
              "             ('linear.bias', tensor([-1.0174]))])"
            ]
          },
          "metadata": {},
          "execution_count": 15
        }
      ],
      "source": [
        "model.state_dict()"
      ],
      "execution_count": 15
    }
  ],
  "metadata": {
    "kernelspec": {
      "display_name": "Python",
      "language": "python",
      "name": "conda-env-python-py"
    },
    "language_info": {
      "name": "python",
      "version": "3.7.12",
      "mimetype": "text/x-python",
      "codemirror_mode": {
        "name": "ipython",
        "version": 3
      },
      "pygments_lexer": "ipython3",
      "nbconvert_exporter": "python",
      "file_extension": ".py"
    },
    "prev_pub_hash": "5c43507851c35ed9ba4c9b4c0df5cf37b5ccffd6de66a80ddb9cf22034f9bac3",
    "colab": {
      "provenance": []
    }
  },
  "nbformat": 4,
  "nbformat_minor": 0
}