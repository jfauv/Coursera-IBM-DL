{
  "cells": [
    {
      "cell_type": "markdown",
      "metadata": {
        "id": "0a364cc4-434f-4da9-8900-a714cfa00e2c"
      },
      "source": [
        "<h1>Convolutional Neural Network with Batch-Normalization </h1>\n"
      ]
    },
    {
      "cell_type": "markdown",
      "metadata": {
        "id": "fee4d9d1-131e-47c8-8c9e-eb4200f598a3"
      },
      "source": [
        "<h3>Objective<h3>    \n",
        "<h5>Learn how to compare a Convolutional Neural Network using Batch Normalization with a regular Convolutional Neural Network  to classify handwritten digits from the MNIST database.</h5>     \n",
        "\n"
      ]
    },
    {
      "cell_type": "markdown",
      "metadata": {
        "id": "d5cb83e3-bd88-4c49-ae17-093eac16f4c0"
      },
      "source": [
        "<a name=\"read_me\"><h2 id=\"read_me\">Read me Batch Norm for Convolution Operation  </h2></a>\n"
      ]
    },
    {
      "cell_type": "markdown",
      "metadata": {
        "id": "0ea2cf82-bb1b-4bed-ad51-4270fdd938e5"
      },
      "source": [
        "Like a fully connected network, we create a <code>BatchNorm2d</code> object, but we apply it to the 2D convolution object. First, we create objects <code>Conv2d</code> object; we require the number of output channels, specified by the variable <code>OUT</code>.  \n"
      ]
    },
    {
      "cell_type": "markdown",
      "metadata": {
        "id": "d2095857-3ef2-41a3-8c75-d85f15dc9ea5"
      },
      "source": [
        "<code>self.cnn1 = nn.Conv2d(in_channels=1, out_channels=OUT, kernel_size=5, padding=2) </code>\n"
      ]
    },
    {
      "cell_type": "markdown",
      "metadata": {
        "id": "49024ce7-a455-43e2-96ed-b747ec5c0f96"
      },
      "source": [
        "We then create a Batch Norm  object for 2D convolution as follows:\n"
      ]
    },
    {
      "cell_type": "markdown",
      "metadata": {
        "id": "80d34891-0564-4226-b5f3-a6c9ebc1e417"
      },
      "source": [
        "<code>self.conv1_bn = nn.BatchNorm2d(OUT)</code>\n"
      ]
    },
    {
      "cell_type": "markdown",
      "metadata": {
        "id": "fc880408-5b73-4863-88b1-4f3fe2569b0c"
      },
      "source": [
        "The parameter out is the number of channels in the output. We can then apply batch norm  after  the convolution operation :\n"
      ]
    },
    {
      "cell_type": "markdown",
      "metadata": {
        "id": "b6ef3e6b-8781-4a76-b3f2-371e86f59d4e"
      },
      "source": [
        "<code>x = self.cnn1(x)</code>\n",
        " <code> x=self.conv1_bn(x)</code>\n"
      ]
    },
    {
      "cell_type": "markdown",
      "metadata": {
        "id": "b3b43ca2-220e-46cf-88cc-1730056476d6"
      },
      "source": [
        "<h2>Preparation</h2>\n"
      ]
    },
    {
      "cell_type": "code",
      "metadata": {
        "colab": {
          "base_uri": "https://localhost:8080/"
        },
        "id": "f577112d-099d-4df1-b802-329f1817c22d",
        "outputId": "dd79ef70-f3c4-4317-f847-e87e5b040295"
      },
      "outputs": [
        {
          "output_type": "stream",
          "name": "stdout",
          "text": [
            "Requirement already satisfied: torchvision in /usr/local/lib/python3.11/dist-packages (0.20.1+cu121)\n",
            "Requirement already satisfied: numpy in /usr/local/lib/python3.11/dist-packages (from torchvision) (1.26.4)\n",
            "Requirement already satisfied: torch==2.5.1 in /usr/local/lib/python3.11/dist-packages (from torchvision) (2.5.1+cu121)\n",
            "Requirement already satisfied: pillow!=8.3.*,>=5.3.0 in /usr/local/lib/python3.11/dist-packages (from torchvision) (11.1.0)\n",
            "Requirement already satisfied: filelock in /usr/local/lib/python3.11/dist-packages (from torch==2.5.1->torchvision) (3.16.1)\n",
            "Requirement already satisfied: typing-extensions>=4.8.0 in /usr/local/lib/python3.11/dist-packages (from torch==2.5.1->torchvision) (4.12.2)\n",
            "Requirement already satisfied: networkx in /usr/local/lib/python3.11/dist-packages (from torch==2.5.1->torchvision) (3.4.2)\n",
            "Requirement already satisfied: jinja2 in /usr/local/lib/python3.11/dist-packages (from torch==2.5.1->torchvision) (3.1.5)\n",
            "Requirement already satisfied: fsspec in /usr/local/lib/python3.11/dist-packages (from torch==2.5.1->torchvision) (2024.10.0)\n",
            "Requirement already satisfied: nvidia-cuda-nvrtc-cu12==12.1.105 in /usr/local/lib/python3.11/dist-packages (from torch==2.5.1->torchvision) (12.1.105)\n",
            "Requirement already satisfied: nvidia-cuda-runtime-cu12==12.1.105 in /usr/local/lib/python3.11/dist-packages (from torch==2.5.1->torchvision) (12.1.105)\n",
            "Requirement already satisfied: nvidia-cuda-cupti-cu12==12.1.105 in /usr/local/lib/python3.11/dist-packages (from torch==2.5.1->torchvision) (12.1.105)\n",
            "Requirement already satisfied: nvidia-cudnn-cu12==9.1.0.70 in /usr/local/lib/python3.11/dist-packages (from torch==2.5.1->torchvision) (9.1.0.70)\n",
            "Requirement already satisfied: nvidia-cublas-cu12==12.1.3.1 in /usr/local/lib/python3.11/dist-packages (from torch==2.5.1->torchvision) (12.1.3.1)\n",
            "Requirement already satisfied: nvidia-cufft-cu12==11.0.2.54 in /usr/local/lib/python3.11/dist-packages (from torch==2.5.1->torchvision) (11.0.2.54)\n",
            "Requirement already satisfied: nvidia-curand-cu12==10.3.2.106 in /usr/local/lib/python3.11/dist-packages (from torch==2.5.1->torchvision) (10.3.2.106)\n",
            "Requirement already satisfied: nvidia-cusolver-cu12==11.4.5.107 in /usr/local/lib/python3.11/dist-packages (from torch==2.5.1->torchvision) (11.4.5.107)\n",
            "Requirement already satisfied: nvidia-cusparse-cu12==12.1.0.106 in /usr/local/lib/python3.11/dist-packages (from torch==2.5.1->torchvision) (12.1.0.106)\n",
            "Requirement already satisfied: nvidia-nccl-cu12==2.21.5 in /usr/local/lib/python3.11/dist-packages (from torch==2.5.1->torchvision) (2.21.5)\n",
            "Requirement already satisfied: nvidia-nvtx-cu12==12.1.105 in /usr/local/lib/python3.11/dist-packages (from torch==2.5.1->torchvision) (12.1.105)\n",
            "Requirement already satisfied: triton==3.1.0 in /usr/local/lib/python3.11/dist-packages (from torch==2.5.1->torchvision) (3.1.0)\n",
            "Requirement already satisfied: sympy==1.13.1 in /usr/local/lib/python3.11/dist-packages (from torch==2.5.1->torchvision) (1.13.1)\n",
            "Requirement already satisfied: nvidia-nvjitlink-cu12 in /usr/local/lib/python3.11/dist-packages (from nvidia-cusolver-cu12==11.4.5.107->torch==2.5.1->torchvision) (12.6.85)\n",
            "Requirement already satisfied: mpmath<1.4,>=1.1.0 in /usr/local/lib/python3.11/dist-packages (from sympy==1.13.1->torch==2.5.1->torchvision) (1.3.0)\n",
            "Requirement already satisfied: MarkupSafe>=2.0 in /usr/local/lib/python3.11/dist-packages (from jinja2->torch==2.5.1->torchvision) (3.0.2)\n"
          ]
        }
      ],
      "source": [
        "!pip install torchvision\n",
        "import torch\n",
        "import torch.nn as nn\n",
        "import torchvision.transforms as transforms\n",
        "import torchvision.datasets as dsets\n",
        "import matplotlib.pylab as plt\n",
        "import numpy as np\n",
        "def show_data(data_sample):\n",
        "    plt.imshow(data_sample[0].numpy().reshape(IMAGE_SIZE, IMAGE_SIZE), cmap='gray')\n",
        "    plt.title('y = '+ str(data_sample[1]))"
      ],
      "execution_count": 1
    },
    {
      "cell_type": "markdown",
      "metadata": {
        "id": "690dad1d-c10b-4ab7-a660-5deef8546dd2"
      },
      "source": [
        "<a name=\"Makeup_Data\"><h2 id=\"Makeup_Data\">Get the Data</h2> </a>\n"
      ]
    },
    {
      "cell_type": "markdown",
      "metadata": {
        "id": "7c6ad76b-9248-49a4-8cae-d479852d1d06"
      },
      "source": [
        "We create a transform to resize the image and convert it to a tensor :\n"
      ]
    },
    {
      "cell_type": "code",
      "metadata": {
        "id": "173c2f67-8d19-4a6e-aa88-4e6f470922ea"
      },
      "outputs": [],
      "source": [
        "IMAGE_SIZE = 16\n",
        "composed = transforms.Compose([transforms.Resize((IMAGE_SIZE, IMAGE_SIZE)), transforms.ToTensor()])"
      ],
      "execution_count": 2
    },
    {
      "cell_type": "markdown",
      "metadata": {
        "id": "71378831-54bc-4d8b-a336-869ad34eca73"
      },
      "source": [
        "Load the training dataset by setting the parameters <code>train </code> to <code>True</code>. We use the transform defined above.\n"
      ]
    },
    {
      "cell_type": "code",
      "metadata": {
        "colab": {
          "base_uri": "https://localhost:8080/"
        },
        "id": "6672fb5d-d310-443e-8dfc-7357bfcca410",
        "outputId": "2a60a5b6-bd85-4153-b743-ccd7e0b59116"
      },
      "outputs": [
        {
          "output_type": "stream",
          "name": "stdout",
          "text": [
            "Downloading http://yann.lecun.com/exdb/mnist/train-images-idx3-ubyte.gz\n",
            "Failed to download (trying next):\n",
            "<urlopen error [Errno 111] Connection refused>\n",
            "\n",
            "Downloading https://ossci-datasets.s3.amazonaws.com/mnist/train-images-idx3-ubyte.gz\n",
            "Downloading https://ossci-datasets.s3.amazonaws.com/mnist/train-images-idx3-ubyte.gz to ./data/MNIST/raw/train-images-idx3-ubyte.gz\n"
          ]
        },
        {
          "output_type": "stream",
          "name": "stderr",
          "text": [
            "100%|██████████| 9.91M/9.91M [00:00<00:00, 134MB/s]\n"
          ]
        },
        {
          "output_type": "stream",
          "name": "stdout",
          "text": [
            "Extracting ./data/MNIST/raw/train-images-idx3-ubyte.gz to ./data/MNIST/raw\n",
            "\n",
            "Downloading http://yann.lecun.com/exdb/mnist/train-labels-idx1-ubyte.gz\n",
            "Failed to download (trying next):\n",
            "<urlopen error [Errno 111] Connection refused>\n",
            "\n",
            "Downloading https://ossci-datasets.s3.amazonaws.com/mnist/train-labels-idx1-ubyte.gz\n",
            "Downloading https://ossci-datasets.s3.amazonaws.com/mnist/train-labels-idx1-ubyte.gz to ./data/MNIST/raw/train-labels-idx1-ubyte.gz\n"
          ]
        },
        {
          "output_type": "stream",
          "name": "stderr",
          "text": [
            "100%|██████████| 28.9k/28.9k [00:00<00:00, 19.7MB/s]"
          ]
        },
        {
          "output_type": "stream",
          "name": "stdout",
          "text": [
            "Extracting ./data/MNIST/raw/train-labels-idx1-ubyte.gz to ./data/MNIST/raw\n",
            "\n",
            "Downloading http://yann.lecun.com/exdb/mnist/t10k-images-idx3-ubyte.gz\n",
            "Failed to download (trying next):\n",
            "<urlopen error [Errno 111] Connection refused>\n",
            "\n",
            "Downloading https://ossci-datasets.s3.amazonaws.com/mnist/t10k-images-idx3-ubyte.gz\n"
          ]
        },
        {
          "output_type": "stream",
          "name": "stderr",
          "text": [
            "\n"
          ]
        },
        {
          "output_type": "stream",
          "name": "stdout",
          "text": [
            "Downloading https://ossci-datasets.s3.amazonaws.com/mnist/t10k-images-idx3-ubyte.gz to ./data/MNIST/raw/t10k-images-idx3-ubyte.gz\n"
          ]
        },
        {
          "output_type": "stream",
          "name": "stderr",
          "text": [
            "100%|██████████| 1.65M/1.65M [00:00<00:00, 85.8MB/s]\n"
          ]
        },
        {
          "output_type": "stream",
          "name": "stdout",
          "text": [
            "Extracting ./data/MNIST/raw/t10k-images-idx3-ubyte.gz to ./data/MNIST/raw\n",
            "\n",
            "Downloading http://yann.lecun.com/exdb/mnist/t10k-labels-idx1-ubyte.gz\n",
            "Failed to download (trying next):\n",
            "<urlopen error [Errno 111] Connection refused>\n",
            "\n",
            "Downloading https://ossci-datasets.s3.amazonaws.com/mnist/t10k-labels-idx1-ubyte.gz\n",
            "Downloading https://ossci-datasets.s3.amazonaws.com/mnist/t10k-labels-idx1-ubyte.gz to ./data/MNIST/raw/t10k-labels-idx1-ubyte.gz\n"
          ]
        },
        {
          "output_type": "stream",
          "name": "stderr",
          "text": [
            "100%|██████████| 4.54k/4.54k [00:00<00:00, 7.94MB/s]\n"
          ]
        },
        {
          "output_type": "stream",
          "name": "stdout",
          "text": [
            "Extracting ./data/MNIST/raw/t10k-labels-idx1-ubyte.gz to ./data/MNIST/raw\n",
            "\n"
          ]
        }
      ],
      "source": [
        "train_dataset = dsets.MNIST(root='./data', train=True, download=True, transform=composed)"
      ],
      "execution_count": 3
    },
    {
      "cell_type": "markdown",
      "metadata": {
        "id": "c8e3b7aa-49d1-486f-b027-d0d6ef616d15"
      },
      "source": [
        "Load the testing dataset by setting the parameters train  <code>False</code>.\n"
      ]
    },
    {
      "cell_type": "code",
      "metadata": {
        "id": "92902965-5581-4d71-b61e-b98f35760845"
      },
      "outputs": [],
      "source": [
        "# Make the validating\n",
        "validation_dataset = dsets.MNIST(root='./data', train=False, download=True, transform=composed)"
      ],
      "execution_count": 4
    },
    {
      "cell_type": "markdown",
      "metadata": {
        "id": "6d2bb194-7f68-4ae7-8efc-c28b54c825d3"
      },
      "source": [
        "We can see the data type is long.\n"
      ]
    },
    {
      "cell_type": "code",
      "metadata": {
        "colab": {
          "base_uri": "https://localhost:8080/"
        },
        "id": "b1b17c63-3280-4096-a0a6-301647525187",
        "outputId": "d70d0115-ddbb-4950-e98e-9e30d36132ca"
      },
      "outputs": [
        {
          "output_type": "execute_result",
          "data": {
            "text/plain": [
              "int"
            ]
          },
          "metadata": {},
          "execution_count": 5
        }
      ],
      "source": [
        "# Show the data type for each element in dataset\n",
        "type(train_dataset[0][1])"
      ],
      "execution_count": 5
    },
    {
      "cell_type": "markdown",
      "metadata": {
        "id": "57895737-d160-4983-9e19-14c602e642aa"
      },
      "source": [
        "Each element in the rectangular tensor corresponds to a number representing a pixel intensity as demonstrated by the following image.\n"
      ]
    },
    {
      "cell_type": "markdown",
      "metadata": {
        "id": "faf686d8-e4ed-4d88-94ef-bae8cbdf8e07"
      },
      "source": [
        "<img src=\"https://s3-api.us-geo.objectstorage.softlayer.net/cf-courses-data/CognitiveClass/DL0110EN/notebook_images%20/chapter%206/6.2.1imagenet.png\" width=\"550\" alt=\"MNIST data image\">\n"
      ]
    },
    {
      "cell_type": "markdown",
      "metadata": {
        "id": "abead200-99a9-45c0-811f-24b309abac8e"
      },
      "source": [
        "Print out the fourth label\n"
      ]
    },
    {
      "cell_type": "code",
      "metadata": {
        "colab": {
          "base_uri": "https://localhost:8080/"
        },
        "id": "eb2cd9a9-5996-4549-bc61-678635e2bec7",
        "outputId": "b5b08446-2c2f-4893-f41c-6d54f88adc05"
      },
      "outputs": [
        {
          "output_type": "execute_result",
          "data": {
            "text/plain": [
              "1"
            ]
          },
          "metadata": {},
          "execution_count": 6
        }
      ],
      "source": [
        "# The label for the fourth data element\n",
        "train_dataset[3][1]"
      ],
      "execution_count": 6
    },
    {
      "cell_type": "markdown",
      "metadata": {
        "id": "0e2ff6f0-827f-4273-832f-c08da5c946f8"
      },
      "source": [
        "Plot the fourth sample\n"
      ]
    },
    {
      "cell_type": "code",
      "metadata": {
        "colab": {
          "base_uri": "https://localhost:8080/",
          "height": 452
        },
        "id": "1e68ac9a-99db-4a75-af1c-ce6c92321b66",
        "outputId": "fc9e7751-9ca0-465c-9ebd-513977c6c871"
      },
      "outputs": [
        {
          "output_type": "display_data",
          "data": {
            "text/plain": [
              "<Figure size 640x480 with 1 Axes>"
            ],
            "image/png": "[encoded data removed]"
          },
          "metadata": {}
        }
      ],
      "source": [
        "# The image for the fourth data element\n",
        "show_data(train_dataset[3])"
      ],
      "execution_count": 7
    },
    {
      "cell_type": "markdown",
      "metadata": {
        "id": "34cf35aa-c1ca-42da-a06c-5e4ee887b643"
      },
      "source": [
        "The fourth sample is a \"1\".\n"
      ]
    },
    {
      "cell_type": "markdown",
      "metadata": {
        "id": "8e2a8b32-436a-425e-82e2-516fc94f34b4"
      },
      "source": [
        "<a name=\"CNN\"><h2 id=\"CNN\">Build a Two Convolutional Neural Network Class</h2></a>\n"
      ]
    },
    {
      "cell_type": "markdown",
      "metadata": {
        "id": "933069f3-96ca-4771-8739-c4f95587303b"
      },
      "source": [
        "Build a Convolutional Network class with two Convolutional layers and one fully connected layer. Pre-determine the size of the final output matrix. The parameters in the constructor are the number of output channels for the first and second layer.\n"
      ]
    },
    {
      "cell_type": "code",
      "metadata": {
        "id": "c1735200-48e2-487c-90b0-4bddd9d67620"
      },
      "outputs": [],
      "source": [
        "class CNN(nn.Module):\n",
        "\n",
        "    # Contructor\n",
        "    def __init__(self, out_1=16, out_2=32):\n",
        "        super(CNN, self).__init__()\n",
        "        self.cnn1 = nn.Conv2d(in_channels=1, out_channels=out_1, kernel_size=5, padding=2)\n",
        "        self.maxpool1=nn.MaxPool2d(kernel_size=2)\n",
        "\n",
        "        self.cnn2 = nn.Conv2d(in_channels=out_1, out_channels=out_2, kernel_size=5, stride=1, padding=2)\n",
        "        self.maxpool2=nn.MaxPool2d(kernel_size=2)\n",
        "        self.fc1 = nn.Linear(out_2 * 4 * 4, 10)\n",
        "\n",
        "    # Prediction\n",
        "    def forward(self, x):\n",
        "        x = self.cnn1(x)\n",
        "        x = torch.relu(x)\n",
        "        x = self.maxpool1(x)\n",
        "        x = self.cnn2(x)\n",
        "        x = torch.relu(x)\n",
        "        x = self.maxpool2(x)\n",
        "        x = x.view(x.size(0), -1)\n",
        "        x = self.fc1(x)\n",
        "        return x\n"
      ],
      "execution_count": 8
    },
    {
      "cell_type": "markdown",
      "metadata": {
        "id": "98b3e4a5-cb5d-4710-acad-613d8393513e"
      },
      "source": [
        "Build a Convolutional Network class with two Convolutional layers and one fully connected layer. But we add Batch Norm for the convolutional layers.\n"
      ]
    },
    {
      "cell_type": "code",
      "metadata": {
        "id": "126916e1-dc98-48f7-8d4f-c133ebd133e5"
      },
      "outputs": [],
      "source": [
        "class CNN_batch(nn.Module):\n",
        "\n",
        "    # Contructor\n",
        "    def __init__(self, out_1=16, out_2=32,number_of_classes=10):\n",
        "        super(CNN_batch, self).__init__()\n",
        "        self.cnn1 = nn.Conv2d(in_channels=1, out_channels=out_1, kernel_size=5, padding=2)\n",
        "        self.conv1_bn = nn.BatchNorm2d(out_1)\n",
        "\n",
        "        self.maxpool1=nn.MaxPool2d(kernel_size=2)\n",
        "\n",
        "        self.cnn2 = nn.Conv2d(in_channels=out_1, out_channels=out_2, kernel_size=5, stride=1, padding=2)\n",
        "        self.conv2_bn = nn.BatchNorm2d(out_2)\n",
        "\n",
        "        self.maxpool2=nn.MaxPool2d(kernel_size=2)\n",
        "        self.fc1 = nn.Linear(out_2 * 4 * 4, number_of_classes)\n",
        "        self.bn_fc1 = nn.BatchNorm1d(10)\n",
        "\n",
        "    # Prediction\n",
        "    def forward(self, x):\n",
        "        x = self.cnn1(x)\n",
        "        x=self.conv1_bn(x)\n",
        "        x = torch.relu(x)\n",
        "        x = self.maxpool1(x)\n",
        "        x = self.cnn2(x)\n",
        "        x=self.conv2_bn(x)\n",
        "        x = torch.relu(x)\n",
        "        x = self.maxpool2(x)\n",
        "        x = x.view(x.size(0), -1)\n",
        "        x = self.fc1(x)\n",
        "        x=self.bn_fc1(x)\n",
        "        return x"
      ],
      "execution_count": 9
    },
    {
      "cell_type": "markdown",
      "metadata": {
        "id": "2ae08237-47c4-4473-92ee-b10fce2dd8f2"
      },
      "source": [
        "Function to train the model\n"
      ]
    },
    {
      "cell_type": "code",
      "metadata": {
        "id": "a217ba5b-daf2-42dd-af46-f5751822753f"
      },
      "outputs": [],
      "source": [
        "def train_model(model,train_loader,validation_loader,optimizer,n_epochs=4):\n",
        "\n",
        "    #global variable\n",
        "    N_test=len(validation_dataset)\n",
        "    accuracy_list=[]\n",
        "    loss_list=[]\n",
        "    for epoch in range(n_epochs):\n",
        "        for x, y in train_loader:\n",
        "            model.train()\n",
        "            optimizer.zero_grad()\n",
        "            z = model(x)\n",
        "            loss = criterion(z, y)\n",
        "            loss.backward()\n",
        "            optimizer.step()\n",
        "            loss_list.append(loss.data)\n",
        "\n",
        "        correct=0\n",
        "        #perform a prediction on the validation  data\n",
        "        for x_test, y_test in validation_loader:\n",
        "            model.eval()\n",
        "            z = model(x_test)\n",
        "            _, yhat = torch.max(z.data, 1)\n",
        "            correct += (yhat == y_test).sum().item()\n",
        "        accuracy = correct / N_test\n",
        "        accuracy_list.append(accuracy)\n",
        "\n",
        "    return accuracy_list, loss_list"
      ],
      "execution_count": 10
    },
    {
      "cell_type": "markdown",
      "metadata": {
        "id": "83a9f96b-3e57-4260-a91f-44881ae81e73"
      },
      "source": [
        "<a name=\"Train\"><h2 id=\"Train\">Define the Convolutional Neural Network Classifier, Criterion function, Optimizer and Train the Model</h2> </a>\n"
      ]
    },
    {
      "cell_type": "markdown",
      "metadata": {
        "id": "699328ac-f62b-4db1-9e68-4853cc335053"
      },
      "source": [
        "There are 16 output channels for the first layer, and 32 output channels for the second layer\n"
      ]
    },
    {
      "cell_type": "code",
      "metadata": {
        "id": "15b595e7-9d88-4d42-a00c-9799526f3368"
      },
      "outputs": [],
      "source": [
        "# Create the model object using CNN class\n",
        "model = CNN(out_1=16, out_2=32)"
      ],
      "execution_count": 11
    },
    {
      "cell_type": "markdown",
      "metadata": {
        "id": "f020bde0-893f-48f1-8343-5d3f2cc8659f"
      },
      "source": [
        "Define the loss function, the optimizer and the dataset loader\n"
      ]
    },
    {
      "cell_type": "code",
      "metadata": {
        "id": "dceab900-177e-442e-9f1e-a1476c585106"
      },
      "outputs": [],
      "source": [
        "criterion = nn.CrossEntropyLoss()\n",
        "learning_rate = 0.1\n",
        "optimizer = torch.optim.SGD(model.parameters(), lr = learning_rate)\n",
        "train_loader = torch.utils.data.DataLoader(dataset=train_dataset, batch_size=100)\n",
        "validation_loader = torch.utils.data.DataLoader(dataset=validation_dataset, batch_size=5000)"
      ],
      "execution_count": 12
    },
    {
      "cell_type": "markdown",
      "metadata": {
        "id": "a76c960d-590a-4546-bd67-ec65ee1f456f"
      },
      "source": [
        "Train the model and determine validation accuracy technically test accuracy **(This may take a long time)**\n"
      ]
    },
    {
      "cell_type": "code",
      "metadata": {
        "id": "25e41515-7015-429a-884d-6d4f1cc12749"
      },
      "outputs": [],
      "source": [
        "# Train the model\n",
        "accuracy_list_normal, loss_list_normal=train_model(model=model,n_epochs=10,train_loader=train_loader,validation_loader=validation_loader,optimizer=optimizer)"
      ],
      "execution_count": 13
    },
    {
      "cell_type": "markdown",
      "metadata": {
        "id": "8eb60a1d-8adc-42c8-a3d4-910a62a92b04"
      },
      "source": [
        "Repeat the Process for the model with  batch norm\n"
      ]
    },
    {
      "cell_type": "code",
      "metadata": {
        "id": "d75fa8d5-fa99-440a-83e3-ba06920225ff"
      },
      "outputs": [],
      "source": [
        "model_batch=CNN_batch(out_1=16, out_2=32)\n",
        "criterion = nn.CrossEntropyLoss()\n",
        "learning_rate = 0.1\n",
        "optimizer = torch.optim.SGD(model_batch.parameters(), lr = learning_rate)\n",
        "accuracy_list_batch, loss_list_batch=train_model(model=model_batch,n_epochs=10,train_loader=train_loader,validation_loader=validation_loader,optimizer=optimizer)"
      ],
      "execution_count": 14
    },
    {
      "cell_type": "markdown",
      "metadata": {
        "id": "db001c67-05eb-4c06-9365-968d8d5cac55"
      },
      "source": [
        "<a name=\"Result\"><h2 id=\"Result\">Analyze Results</h2> </a>\n"
      ]
    },
    {
      "cell_type": "markdown",
      "metadata": {
        "id": "535473d8-bca0-4339-aa7a-bf0efd74560a"
      },
      "source": [
        "Plot the loss with both networks.\n"
      ]
    },
    {
      "cell_type": "code",
      "metadata": {
        "colab": {
          "base_uri": "https://localhost:8080/",
          "height": 490
        },
        "id": "7dc2a533-e40a-4969-9328-f3af54e06263",
        "outputId": "316fe094-9a50-4150-e830-71a9685d3f83"
      },
      "outputs": [
        {
          "output_type": "execute_result",
          "data": {
            "text/plain": [
              "<matplotlib.legend.Legend at 0x78f4b2f21bd0>"
            ]
          },
          "metadata": {},
          "execution_count": 15
        },
        {
          "output_type": "display_data",
          "data": {
            "text/plain": [
              "<Figure size 640x480 with 1 Axes>"
            ],
            "image/png": "[encoded data removed]"
          },
          "metadata": {}
        }
      ],
      "source": [
        "# Plot the loss and accuracy\n",
        "plt.plot(loss_list_normal, 'b',label='loss normal cnn ')\n",
        "plt.plot(loss_list_batch,'r',label='loss batch cnn')\n",
        "plt.xlabel('iteration')\n",
        "plt.title(\"loss\")\n",
        "plt.legend()"
      ],
      "execution_count": 15
    },
    {
      "cell_type": "code",
      "metadata": {
        "colab": {
          "base_uri": "https://localhost:8080/",
          "height": 472
        },
        "id": "8abd1ded-fe58-425c-9c62-cb0db28d2ffb",
        "outputId": "0388b72e-9722-4290-9fed-3dbba6f339cc"
      },
      "outputs": [
        {
          "output_type": "display_data",
          "data": {
            "text/plain": [
              "<Figure size 640x480 with 1 Axes>"
            ],
            "image/png": "[encoded data removed]"
          },
          "metadata": {}
        }
      ],
      "source": [
        "plt.plot(accuracy_list_normal, 'b',label=' normal CNN')\n",
        "plt.plot(accuracy_list_batch,'r',label=' CNN with Batch Norm')\n",
        "plt.xlabel('Epoch')\n",
        "plt.title(\"Accuracy \")\n",
        "plt.legend()\n",
        "plt.show()"
      ],
      "execution_count": 16
    },
    {
      "cell_type": "markdown",
      "metadata": {
        "id": "f741ff83-8a6f-45e1-98e8-41e3556561d1"
      },
      "source": [
        "We see the CNN with batch norm performers better, with faster convergence.\n"
      ]
    }
  ],
  "metadata": {
    "kernelspec": {
      "display_name": "Python",
      "language": "python",
      "name": "conda-env-python-py"
    },
    "language_info": {
      "name": "python",
      "version": "3.7.12",
      "mimetype": "text/x-python",
      "codemirror_mode": {
        "name": "ipython",
        "version": 3
      },
      "pygments_lexer": "ipython3",
      "nbconvert_exporter": "python",
      "file_extension": ".py"
    },
    "prev_pub_hash": "5d4e3382155a1f14ec0d9288e9da8f0bdf730499d9fe6abfe05894869af071e4",
    "colab": {
      "provenance": []
    }
  },
  "nbformat": 4,
  "nbformat_minor": 0
}